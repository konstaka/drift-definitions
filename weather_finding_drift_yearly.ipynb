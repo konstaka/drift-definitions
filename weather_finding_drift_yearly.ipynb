{
 "cells": [
  {
   "cell_type": "markdown",
   "id": "92351e7f",
   "metadata": {},
   "source": [
    "# Weather dataset drift localisation with different classifiers - yearly predictions"
   ]
  },
  {
   "cell_type": "code",
   "execution_count": 1,
   "id": "cc368eab",
   "metadata": {},
   "outputs": [],
   "source": [
    "import numpy as np\n",
    "import pandas as pd\n",
    "from scipy.io import arff\n",
    "from sklearn.model_selection import train_test_split, cross_val_score\n",
    "from sklearn.preprocessing import MinMaxScaler\n",
    "\n",
    "import matplotlib.pyplot as plt\n",
    "import math\n",
    "\n",
    "from sklearn.naive_bayes import GaussianNB\n",
    "from sklearn.dummy import DummyClassifier\n",
    "from sklearn.tree import DecisionTreeClassifier\n",
    "from sklearn.svm import SVC\n",
    "from sklearn.neighbors import KNeighborsClassifier\n",
    "from sklearn.linear_model import LogisticRegression\n",
    "\n",
    "from sklearn.model_selection import KFold\n",
    "from sklearn.model_selection import cross_validate\n",
    "from sklearn.metrics import f1_score, accuracy_score, make_scorer\n",
    "from sklearn.model_selection import GridSearchCV\n",
    "\n",
    "from warnings import simplefilter\n",
    "simplefilter(action='ignore', category=FutureWarning)\n",
    "\n",
    "\n",
    "from skopt import BayesSearchCV\n",
    "from skopt.space import Real, Categorical, Integer"
   ]
  },
  {
   "cell_type": "markdown",
   "id": "94f1c71e",
   "metadata": {},
   "source": [
    "## Accept and preprocess the weather dataset"
   ]
  },
  {
   "cell_type": "code",
   "execution_count": 2,
   "id": "f1efebe7",
   "metadata": {
    "scrolled": false
   },
   "outputs": [
    {
     "name": "stdout",
     "output_type": "stream",
     "text": [
      "   Unnamed: 0  TEMP  DEWP     SLP  VISIB  WDSP  MXSPD   MAX   MIN  Label_Rain\n",
      "0           0  24.7  21.3  1013.8    1.8   8.9   12.0  30.9  19.9           1\n",
      "1           1  26.6  20.1  1015.7    5.5  11.9   18.1  30.0  19.0           1\n",
      "2           2  24.0  16.5  1018.6    9.3   8.0   14.0  28.9  19.0           0\n",
      "3           3  24.9  17.2  1014.2   10.6   6.7   22.0  39.9  17.1           0\n",
      "4           4  21.9  12.3  1017.5    9.8  10.5   28.9  34.0  15.1           0\n",
      "   TEMP  DEWP     SLP  VISIB  WDSP  MXSPD   MAX   MIN\n",
      "0  24.7  21.3  1013.8    1.8   8.9   12.0  30.9  19.9\n",
      "1  26.6  20.1  1015.7    5.5  11.9   18.1  30.0  19.0\n",
      "2  24.0  16.5  1018.6    9.3   8.0   14.0  28.9  19.0\n",
      "3  24.9  17.2  1014.2   10.6   6.7   22.0  39.9  17.1\n",
      "4  21.9  12.3  1017.5    9.8  10.5   28.9  34.0  15.1\n",
      "0    1\n",
      "1    1\n",
      "2    0\n",
      "3    0\n",
      "4    0\n",
      "Name: Label_Rain, dtype: int64\n",
      "\n",
      "reference data\n",
      "(6053, 8)\n",
      "[[0.32335329 0.45853659 0.50909091 ... 0.21443737 0.00335913 0.36567926]\n",
      " [0.34231537 0.44682927 0.53787879 ... 0.34394904 0.00326915 0.35648621]\n",
      " [0.31636727 0.41170732 0.58181818 ... 0.25690021 0.00315918 0.35648621]\n",
      " ...\n",
      " [0.83532934 0.9395122  0.56363636 ... 0.16985138 0.00897767 0.89785495]\n",
      " [0.81936128 0.88       0.58787879 ... 0.12951168 0.0084678  0.84576098]\n",
      " [0.81437126 0.88780488 0.56363636 ... 0.10828025 0.00836782 0.84576098]]\n",
      "\n",
      "reference labels\n",
      "(6053,)\n",
      "\n",
      "testing data\n",
      "(12106, 8)\n",
      "[[0.80538922 0.84       0.57272727 ... 0.16985138 0.00855777 0.7854954 ]\n",
      " [0.82035928 0.85853659 0.56060606 ... 0.14861996 0.00936756 0.7854954 ]\n",
      " [0.88922156 0.87804878 0.49242424 ... 0.1910828  0.00965749 0.86823289]\n",
      " ...\n",
      " [0.21556886 0.28195122 0.44545455 ... 0.33970276 0.00278927 0.21552605]\n",
      " [0.1497006  0.17756098 0.51363636 ... 0.48832272 0.00258933 0.13483146]\n",
      " [0.05588822 0.0995122  0.68484848 ... 0.21019108 0.00137964 0.05209397]]\n",
      "\n",
      "testing labels\n",
      "(12106,)\n"
     ]
    }
   ],
   "source": [
    "df = pd.read_csv(\"real_world_data/weather_dataset.csv\")\n",
    "\n",
    "print(df.head())\n",
    "\n",
    "X = df.drop(columns=['Unnamed: 0', 'Label_Rain'])\n",
    "y = df[\"Label_Rain\"]\n",
    "\n",
    "print(X.head())\n",
    "print(y.head())\n",
    "\n",
    "X_ref = X[:6053]\n",
    "X_test = X[6053:]\n",
    "y_ref = y[:6053]\n",
    "y_test = y[6053:]\n",
    "\n",
    "# X_ref, X_test, y_ref, y_test = train_test_split(X, y, train_size=0.30, shuffle=False)\n",
    "\n",
    "X_ref = X_ref.to_numpy()\n",
    "X_test = X_test.to_numpy()\n",
    "y_ref = y_ref.to_numpy()\n",
    "y_test = y_test.to_numpy()\n",
    "\n",
    "# scale the data - consistency measure: it will also be scaled for drift detection later\n",
    "scaler = MinMaxScaler()\n",
    "scaler.fit(X_ref)\n",
    "X_ref = scaler.transform(X_ref)\n",
    "X_test = scaler.transform(X_test)\n",
    "\n",
    "print('\\nreference data')\n",
    "print(X_ref.shape)\n",
    "print(X_ref)\n",
    "print('\\nreference labels')\n",
    "print(y_ref.shape)\n",
    "print('\\ntesting data')\n",
    "print(X_test.shape)\n",
    "print(X_test)\n",
    "print('\\ntesting labels')\n",
    "print(y_test.shape)"
   ]
  },
  {
   "cell_type": "markdown",
   "id": "a7b01d65",
   "metadata": {},
   "source": [
    "## Define helper functions"
   ]
  },
  {
   "cell_type": "code",
   "execution_count": 8,
   "id": "8234c9bf",
   "metadata": {},
   "outputs": [],
   "source": [
    "import random\n",
    "\n",
    "\n",
    "def take_out_random_batch(X, y, batch_size, random_state):\n",
    "    \"\"\"Take a random batch of data out of the reference data\"\"\"\n",
    "    random.seed(a=random_state)\n",
    "    start = random.randint(0, X.shape[0] - batch_size)\n",
    "    indices = list(range(start, start + batch_size))\n",
    "    \n",
    "    X_extracted_batch = X[indices]\n",
    "    X_rest = np.delete(X, indices, axis=0)\n",
    "    y_extracted_batch = y[indices]\n",
    "    y_rest = np.delete(y, indices, axis=0)\n",
    "    \n",
    "#     print('shape of points in the extracted batch')\n",
    "#     print(X_extracted_batch.shape)\n",
    "#     print('shape of points in the rest')\n",
    "#     print(X_rest.shape)\n",
    "    \n",
    "    return X_extracted_batch, X_rest, y_extracted_batch, y_rest\n",
    "\n",
    "\n",
    "def find_model_expected_accuracy(X, y, batch_size, model, min_runs=10, std_err_threshold=0.05):\n",
    "    print('model', model)\n",
    "    accuracies = []\n",
    "    accuracy_std_err = 100\n",
    "    current_random_state = 0\n",
    "    i = 0\n",
    "    while i < min_runs or accuracy_std_err > std_err_threshold:\n",
    "        X_extracted_batch, X_rest, y_extracted_batch, y_rest = take_out_random_batch(\n",
    "            X_ref, y_ref, batch_size, random_state=current_random_state)\n",
    "        y_pred = model.fit(X_rest, y_rest).predict(X_extracted_batch)\n",
    "        accuracies.append(accuracy_score(y_extracted_batch, y_pred))\n",
    "        if len(accuracies) > 1:\n",
    "            accuracy_std_err = np.std(accuracies) / np.sqrt(len(accuracies))\n",
    "        current_random_state += 1\n",
    "        i += 1\n",
    "    \n",
    "    return np.mean(accuracies), np.std(accuracies)"
   ]
  },
  {
   "cell_type": "markdown",
   "id": "355cb0e4",
   "metadata": {},
   "source": [
    "## Define parameter values"
   ]
  },
  {
   "cell_type": "code",
   "execution_count": 5,
   "id": "ccb74f41",
   "metadata": {},
   "outputs": [],
   "source": [
    "random_state = 42\n",
    "batch_size = 365  # yearly predictions"
   ]
  },
  {
   "cell_type": "markdown",
   "id": "9c333bb8",
   "metadata": {},
   "source": [
    "## Find the model with the highest accuracy"
   ]
  },
  {
   "cell_type": "code",
   "execution_count": 6,
   "id": "0ff2619e",
   "metadata": {},
   "outputs": [],
   "source": [
    "model_names = [\"GaussianNB\", \"DecisionTreeClassifier\", \"KNeighborsClassifier\", \"SVM\", \"LogisticRegression\"]\n",
    "model_final_accuracies = {\n",
    "    \"GaussianNB\": 0.0,\n",
    "    \"DecisionTreeClassifier\": 0.0,\n",
    "    \"KNeighborsClassifier\": 0.0,\n",
    "    \"SVM\": 0.0,\n",
    "    \"LogisticRegression\": 0.0\n",
    "}"
   ]
  },
  {
   "cell_type": "markdown",
   "id": "00d6cb9c",
   "metadata": {},
   "source": [
    "### Try GaussianNB"
   ]
  },
  {
   "cell_type": "code",
   "execution_count": 7,
   "id": "98337408",
   "metadata": {},
   "outputs": [
    {
     "name": "stdout",
     "output_type": "stream",
     "text": [
      "{'GaussianNB': 0.0, 'DecisionTreeClassifier': 0.0, 'KNeighborsClassifier': 0.0, 'SVM': 0.0, 'LogisticRegression': 0.0}\n",
      "model GaussianNB()\n",
      "{'GaussianNB': 0.6947945205479451, 'DecisionTreeClassifier': 0.0, 'KNeighborsClassifier': 0.0, 'SVM': 0.0, 'LogisticRegression': 0.0}\n"
     ]
    }
   ],
   "source": [
    "gnb = GaussianNB()\n",
    "\n",
    "print(model_final_accuracies)\n",
    "model_final_accuracies[\"GaussianNB\"], _ = find_model_expected_accuracy(X_ref, y_ref, batch_size, model=gnb)\n",
    "print(model_final_accuracies)"
   ]
  },
  {
   "cell_type": "markdown",
   "id": "d25173af",
   "metadata": {},
   "source": [
    "### Hyperparameter tuning imports"
   ]
  },
  {
   "cell_type": "code",
   "execution_count": 8,
   "id": "1751e016",
   "metadata": {},
   "outputs": [],
   "source": [
    "import skopt\n",
    "from skopt.utils import use_named_args\n",
    "from skopt import gp_minimize\n",
    "from skopt.plots import plot_convergence"
   ]
  },
  {
   "cell_type": "markdown",
   "id": "9bba053d",
   "metadata": {},
   "source": [
    "### Try decision trees"
   ]
  },
  {
   "cell_type": "code",
   "execution_count": 9,
   "id": "a3a9b4dc",
   "metadata": {},
   "outputs": [
    {
     "name": "stdout",
     "output_type": "stream",
     "text": [
      "model DecisionTreeClassifier(max_depth=78, random_state=42)\n",
      "model DecisionTreeClassifier(max_depth=11, random_state=42)\n",
      "model DecisionTreeClassifier(criterion='entropy', max_depth=15, random_state=42)\n",
      "model DecisionTreeClassifier(max_depth=72, random_state=42)\n",
      "model DecisionTreeClassifier(max_depth=99, random_state=42)\n",
      "model DecisionTreeClassifier(max_depth=2, random_state=42, splitter='random')\n",
      "model DecisionTreeClassifier(criterion='entropy', max_depth=41, random_state=42,\n",
      "                       splitter='random')\n",
      "model DecisionTreeClassifier(criterion='entropy', max_depth=24, random_state=42,\n",
      "                       splitter='random')\n",
      "model DecisionTreeClassifier(criterion='entropy', max_depth=39, random_state=42,\n",
      "                       splitter='random')\n",
      "model DecisionTreeClassifier(max_depth=86, random_state=42)\n",
      "model DecisionTreeClassifier(criterion='entropy', max_depth=1, random_state=42)\n",
      "model DecisionTreeClassifier(max_depth=22, random_state=42)\n",
      "model DecisionTreeClassifier(max_depth=13, random_state=42)\n",
      "model DecisionTreeClassifier(max_depth=4, random_state=42)\n",
      "model DecisionTreeClassifier(criterion='entropy', max_depth=28, random_state=42)\n",
      "model DecisionTreeClassifier(criterion='entropy', max_depth=62, random_state=42)\n",
      "model DecisionTreeClassifier(criterion='entropy', max_depth=80, random_state=42)\n",
      "model DecisionTreeClassifier(criterion='entropy', max_depth=100, random_state=42)\n",
      "model DecisionTreeClassifier(max_depth=100, random_state=42, splitter='random')\n",
      "model DecisionTreeClassifier(criterion='entropy', max_depth=100, random_state=42,\n",
      "                       splitter='random')\n",
      "model DecisionTreeClassifier(max_depth=53, random_state=42, splitter='random')\n",
      "model DecisionTreeClassifier(max_depth=1, random_state=42)\n"
     ]
    },
    {
     "name": "stderr",
     "output_type": "stream",
     "text": [
      "C:\\Users\\jpohl\\anaconda3\\lib\\site-packages\\skopt\\optimizer\\optimizer.py:449: UserWarning: The objective has been evaluated at this point before.\n",
      "  warnings.warn(\"The objective has been evaluated \"\n"
     ]
    },
    {
     "name": "stdout",
     "output_type": "stream",
     "text": [
      "model DecisionTreeClassifier(criterion='entropy', max_depth=100, random_state=42)\n",
      "model DecisionTreeClassifier(max_depth=6, random_state=42)\n",
      "model DecisionTreeClassifier(criterion='entropy', max_depth=20, random_state=42)\n",
      "model DecisionTreeClassifier(criterion='entropy', max_depth=68, random_state=42)\n",
      "model DecisionTreeClassifier(criterion='entropy', max_depth=74, random_state=42)\n",
      "model DecisionTreeClassifier(criterion='entropy', max_depth=94, random_state=42)\n",
      "model DecisionTreeClassifier(max_depth=5, random_state=42)\n",
      "model DecisionTreeClassifier(criterion='entropy', max_depth=44, random_state=42)\n",
      "model DecisionTreeClassifier(criterion='entropy', max_depth=70, random_state=42,\n",
      "                       splitter='random')\n",
      "model DecisionTreeClassifier(max_depth=1, random_state=42, splitter='random')\n",
      "model DecisionTreeClassifier(criterion='entropy', max_depth=53, random_state=42)\n",
      "model DecisionTreeClassifier(max_depth=7, random_state=42)\n"
     ]
    },
    {
     "name": "stderr",
     "output_type": "stream",
     "text": [
      "C:\\Users\\jpohl\\anaconda3\\lib\\site-packages\\skopt\\optimizer\\optimizer.py:449: UserWarning: The objective has been evaluated at this point before.\n",
      "  warnings.warn(\"The objective has been evaluated \"\n"
     ]
    },
    {
     "name": "stdout",
     "output_type": "stream",
     "text": [
      "model DecisionTreeClassifier(max_depth=7, random_state=42)\n",
      "model DecisionTreeClassifier(max_depth=8, random_state=42)\n",
      "model DecisionTreeClassifier(max_depth=47, random_state=42)\n"
     ]
    },
    {
     "name": "stderr",
     "output_type": "stream",
     "text": [
      "C:\\Users\\jpohl\\anaconda3\\lib\\site-packages\\skopt\\optimizer\\optimizer.py:449: UserWarning: The objective has been evaluated at this point before.\n",
      "  warnings.warn(\"The objective has been evaluated \"\n"
     ]
    },
    {
     "name": "stdout",
     "output_type": "stream",
     "text": [
      "model DecisionTreeClassifier(max_depth=7, random_state=42)\n",
      "model DecisionTreeClassifier(criterion='entropy', max_depth=1, random_state=42,\n",
      "                       splitter='random')\n",
      "model DecisionTreeClassifier(criterion='entropy', max_depth=36, random_state=42)\n"
     ]
    },
    {
     "name": "stderr",
     "output_type": "stream",
     "text": [
      "C:\\Users\\jpohl\\anaconda3\\lib\\site-packages\\skopt\\optimizer\\optimizer.py:449: UserWarning: The objective has been evaluated at this point before.\n",
      "  warnings.warn(\"The objective has been evaluated \"\n"
     ]
    },
    {
     "name": "stdout",
     "output_type": "stream",
     "text": [
      "model DecisionTreeClassifier(max_depth=7, random_state=42)\n",
      "model DecisionTreeClassifier(max_depth=83, random_state=42, splitter='random')\n",
      "model DecisionTreeClassifier(max_depth=59, random_state=42)\n",
      "model DecisionTreeClassifier(criterion='entropy', max_depth=7, random_state=42)\n",
      "model DecisionTreeClassifier(criterion='entropy', max_depth=6, random_state=42)\n",
      "model DecisionTreeClassifier(criterion='entropy', max_depth=10, random_state=42)\n",
      "model DecisionTreeClassifier(max_depth=33, random_state=42)\n",
      "model DecisionTreeClassifier(max_depth=15, random_state=42, splitter='random')\n",
      "model DecisionTreeClassifier(max_depth=31, random_state=42, splitter='random')\n"
     ]
    },
    {
     "name": "stderr",
     "output_type": "stream",
     "text": [
      "C:\\Users\\jpohl\\anaconda3\\lib\\site-packages\\skopt\\optimizer\\optimizer.py:449: UserWarning: The objective has been evaluated at this point before.\n",
      "  warnings.warn(\"The objective has been evaluated \"\n"
     ]
    },
    {
     "name": "stdout",
     "output_type": "stream",
     "text": [
      "model DecisionTreeClassifier(criterion='entropy', max_depth=10, random_state=42)\n",
      "model DecisionTreeClassifier(criterion='entropy', max_depth=9, random_state=42)\n",
      "model DecisionTreeClassifier(criterion='entropy', max_depth=85, random_state=42,\n",
      "                       splitter='random')\n"
     ]
    },
    {
     "name": "stderr",
     "output_type": "stream",
     "text": [
      "C:\\Users\\jpohl\\anaconda3\\lib\\site-packages\\skopt\\optimizer\\optimizer.py:449: UserWarning: The objective has been evaluated at this point before.\n",
      "  warnings.warn(\"The objective has been evaluated \"\n"
     ]
    },
    {
     "name": "stdout",
     "output_type": "stream",
     "text": [
      "model DecisionTreeClassifier(criterion='entropy', max_depth=9, random_state=42)\n",
      "model DecisionTreeClassifier(max_depth=63, random_state=42, splitter='random')\n",
      "model DecisionTreeClassifier(criterion='entropy', max_depth=87, random_state=42)\n",
      "model DecisionTreeClassifier(criterion='entropy', max_depth=8, random_state=42)\n"
     ]
    },
    {
     "name": "stderr",
     "output_type": "stream",
     "text": [
      "C:\\Users\\jpohl\\anaconda3\\lib\\site-packages\\skopt\\optimizer\\optimizer.py:449: UserWarning: The objective has been evaluated at this point before.\n",
      "  warnings.warn(\"The objective has been evaluated \"\n"
     ]
    },
    {
     "name": "stdout",
     "output_type": "stream",
     "text": [
      "model DecisionTreeClassifier(criterion='entropy', max_depth=10, random_state=42)\n"
     ]
    },
    {
     "name": "stderr",
     "output_type": "stream",
     "text": [
      "C:\\Users\\jpohl\\anaconda3\\lib\\site-packages\\skopt\\optimizer\\optimizer.py:449: UserWarning: The objective has been evaluated at this point before.\n",
      "  warnings.warn(\"The objective has been evaluated \"\n"
     ]
    },
    {
     "name": "stdout",
     "output_type": "stream",
     "text": [
      "model DecisionTreeClassifier(criterion='entropy', max_depth=10, random_state=42)\n"
     ]
    },
    {
     "name": "stderr",
     "output_type": "stream",
     "text": [
      "C:\\Users\\jpohl\\anaconda3\\lib\\site-packages\\skopt\\optimizer\\optimizer.py:449: UserWarning: The objective has been evaluated at this point before.\n",
      "  warnings.warn(\"The objective has been evaluated \"\n"
     ]
    },
    {
     "name": "stdout",
     "output_type": "stream",
     "text": [
      "model DecisionTreeClassifier(criterion='entropy', max_depth=10, random_state=42)\n",
      "model DecisionTreeClassifier(criterion='entropy', max_depth=12, random_state=42,\n",
      "                       splitter='random')\n",
      "model DecisionTreeClassifier(criterion='entropy', max_depth=55, random_state=42,\n",
      "                       splitter='random')\n"
     ]
    },
    {
     "name": "stderr",
     "output_type": "stream",
     "text": [
      "C:\\Users\\jpohl\\anaconda3\\lib\\site-packages\\skopt\\optimizer\\optimizer.py:449: UserWarning: The objective has been evaluated at this point before.\n",
      "  warnings.warn(\"The objective has been evaluated \"\n"
     ]
    },
    {
     "name": "stdout",
     "output_type": "stream",
     "text": [
      "model DecisionTreeClassifier(criterion='entropy', max_depth=10, random_state=42)\n"
     ]
    },
    {
     "name": "stderr",
     "output_type": "stream",
     "text": [
      "C:\\Users\\jpohl\\anaconda3\\lib\\site-packages\\skopt\\optimizer\\optimizer.py:449: UserWarning: The objective has been evaluated at this point before.\n",
      "  warnings.warn(\"The objective has been evaluated \"\n"
     ]
    },
    {
     "name": "stdout",
     "output_type": "stream",
     "text": [
      "model DecisionTreeClassifier(criterion='entropy', max_depth=10, random_state=42)\n",
      "model DecisionTreeClassifier(max_depth=92, random_state=42, splitter='random')\n",
      "model DecisionTreeClassifier(max_depth=74, random_state=42, splitter='random')\n"
     ]
    },
    {
     "name": "stderr",
     "output_type": "stream",
     "text": [
      "C:\\Users\\jpohl\\anaconda3\\lib\\site-packages\\skopt\\optimizer\\optimizer.py:449: UserWarning: The objective has been evaluated at this point before.\n",
      "  warnings.warn(\"The objective has been evaluated \"\n"
     ]
    },
    {
     "name": "stdout",
     "output_type": "stream",
     "text": [
      "model DecisionTreeClassifier(criterion='entropy', max_depth=10, random_state=42)\n",
      "model DecisionTreeClassifier(criterion='entropy', max_depth=17, random_state=42,\n",
      "                       splitter='random')\n"
     ]
    },
    {
     "name": "stderr",
     "output_type": "stream",
     "text": [
      "C:\\Users\\jpohl\\anaconda3\\lib\\site-packages\\skopt\\optimizer\\optimizer.py:449: UserWarning: The objective has been evaluated at this point before.\n",
      "  warnings.warn(\"The objective has been evaluated \"\n"
     ]
    },
    {
     "name": "stdout",
     "output_type": "stream",
     "text": [
      "model DecisionTreeClassifier(criterion='entropy', max_depth=10, random_state=42)\n"
     ]
    },
    {
     "name": "stderr",
     "output_type": "stream",
     "text": [
      "C:\\Users\\jpohl\\anaconda3\\lib\\site-packages\\skopt\\optimizer\\optimizer.py:449: UserWarning: The objective has been evaluated at this point before.\n",
      "  warnings.warn(\"The objective has been evaluated \"\n"
     ]
    },
    {
     "name": "stdout",
     "output_type": "stream",
     "text": [
      "model DecisionTreeClassifier(criterion='entropy', max_depth=10, random_state=42)\n",
      "model DecisionTreeClassifier(max_depth=44, random_state=42, splitter='random')\n"
     ]
    },
    {
     "name": "stderr",
     "output_type": "stream",
     "text": [
      "C:\\Users\\jpohl\\anaconda3\\lib\\site-packages\\skopt\\optimizer\\optimizer.py:449: UserWarning: The objective has been evaluated at this point before.\n",
      "  warnings.warn(\"The objective has been evaluated \"\n"
     ]
    },
    {
     "name": "stdout",
     "output_type": "stream",
     "text": [
      "model DecisionTreeClassifier(criterion='entropy', max_depth=10, random_state=42)\n"
     ]
    },
    {
     "name": "stderr",
     "output_type": "stream",
     "text": [
      "C:\\Users\\jpohl\\anaconda3\\lib\\site-packages\\skopt\\optimizer\\optimizer.py:449: UserWarning: The objective has been evaluated at this point before.\n",
      "  warnings.warn(\"The objective has been evaluated \"\n"
     ]
    },
    {
     "name": "stdout",
     "output_type": "stream",
     "text": [
      "model DecisionTreeClassifier(criterion='entropy', max_depth=10, random_state=42)\n",
      "model DecisionTreeClassifier(max_depth=40, random_state=42)\n"
     ]
    },
    {
     "name": "stderr",
     "output_type": "stream",
     "text": [
      "C:\\Users\\jpohl\\anaconda3\\lib\\site-packages\\skopt\\optimizer\\optimizer.py:449: UserWarning: The objective has been evaluated at this point before.\n",
      "  warnings.warn(\"The objective has been evaluated \"\n"
     ]
    },
    {
     "name": "stdout",
     "output_type": "stream",
     "text": [
      "model DecisionTreeClassifier(criterion='entropy', max_depth=10, random_state=42)\n"
     ]
    },
    {
     "name": "stderr",
     "output_type": "stream",
     "text": [
      "C:\\Users\\jpohl\\anaconda3\\lib\\site-packages\\skopt\\optimizer\\optimizer.py:449: UserWarning: The objective has been evaluated at this point before.\n",
      "  warnings.warn(\"The objective has been evaluated \"\n"
     ]
    },
    {
     "name": "stdout",
     "output_type": "stream",
     "text": [
      "model DecisionTreeClassifier(criterion='entropy', max_depth=10, random_state=42)\n"
     ]
    },
    {
     "name": "stderr",
     "output_type": "stream",
     "text": [
      "C:\\Users\\jpohl\\anaconda3\\lib\\site-packages\\skopt\\optimizer\\optimizer.py:449: UserWarning: The objective has been evaluated at this point before.\n",
      "  warnings.warn(\"The objective has been evaluated \"\n"
     ]
    },
    {
     "name": "stdout",
     "output_type": "stream",
     "text": [
      "model DecisionTreeClassifier(criterion='entropy', max_depth=10, random_state=42)\n"
     ]
    },
    {
     "name": "stderr",
     "output_type": "stream",
     "text": [
      "C:\\Users\\jpohl\\anaconda3\\lib\\site-packages\\skopt\\optimizer\\optimizer.py:449: UserWarning: The objective has been evaluated at this point before.\n",
      "  warnings.warn(\"The objective has been evaluated \"\n"
     ]
    },
    {
     "name": "stdout",
     "output_type": "stream",
     "text": [
      "model DecisionTreeClassifier(criterion='entropy', max_depth=9, random_state=42)\n",
      "model DecisionTreeClassifier(criterion='entropy', max_depth=8, random_state=42,\n",
      "                       splitter='random')\n",
      "model DecisionTreeClassifier(criterion='entropy', max_depth=9, random_state=42,\n",
      "                       splitter='random')\n"
     ]
    },
    {
     "name": "stderr",
     "output_type": "stream",
     "text": [
      "C:\\Users\\jpohl\\anaconda3\\lib\\site-packages\\skopt\\optimizer\\optimizer.py:449: UserWarning: The objective has been evaluated at this point before.\n",
      "  warnings.warn(\"The objective has been evaluated \"\n"
     ]
    },
    {
     "name": "stdout",
     "output_type": "stream",
     "text": [
      "model DecisionTreeClassifier(criterion='entropy', max_depth=9, random_state=42)\n"
     ]
    },
    {
     "name": "stderr",
     "output_type": "stream",
     "text": [
      "C:\\Users\\jpohl\\anaconda3\\lib\\site-packages\\skopt\\optimizer\\optimizer.py:449: UserWarning: The objective has been evaluated at this point before.\n",
      "  warnings.warn(\"The objective has been evaluated \"\n"
     ]
    },
    {
     "name": "stdout",
     "output_type": "stream",
     "text": [
      "model DecisionTreeClassifier(criterion='entropy', max_depth=9, random_state=42)\n",
      "model DecisionTreeClassifier(max_depth=9, random_state=42, splitter='random')\n",
      "model DecisionTreeClassifier(max_depth=7, random_state=42, splitter='random')\n",
      "model DecisionTreeClassifier(criterion='entropy', max_depth=7, random_state=42,\n",
      "                       splitter='random')\n",
      "model DecisionTreeClassifier(max_depth=11, random_state=42, splitter='random')\n",
      "model DecisionTreeClassifier(criterion='entropy', max_depth=12, random_state=42)\n",
      "model DecisionTreeClassifier(max_depth=10, random_state=42, splitter='random')\n",
      "model DecisionTreeClassifier(criterion='entropy', max_depth=90, random_state=42)\n",
      "model DecisionTreeClassifier(max_depth=65, random_state=42)\n",
      "model DecisionTreeClassifier(max_depth=23, random_state=42, splitter='random')\n"
     ]
    },
    {
     "name": "stderr",
     "output_type": "stream",
     "text": [
      "C:\\Users\\jpohl\\anaconda3\\lib\\site-packages\\skopt\\optimizer\\optimizer.py:449: UserWarning: The objective has been evaluated at this point before.\n",
      "  warnings.warn(\"The objective has been evaluated \"\n"
     ]
    },
    {
     "name": "stdout",
     "output_type": "stream",
     "text": [
      "model DecisionTreeClassifier(criterion='entropy', max_depth=8, random_state=42,\n",
      "                       splitter='random')\n",
      "model DecisionTreeClassifier(criterion='entropy', max_depth=32, random_state=42,\n",
      "                       splitter='random')\n"
     ]
    },
    {
     "name": "stderr",
     "output_type": "stream",
     "text": [
      "C:\\Users\\jpohl\\anaconda3\\lib\\site-packages\\skopt\\optimizer\\optimizer.py:449: UserWarning: The objective has been evaluated at this point before.\n",
      "  warnings.warn(\"The objective has been evaluated \"\n"
     ]
    },
    {
     "name": "stdout",
     "output_type": "stream",
     "text": [
      "model DecisionTreeClassifier(criterion='entropy', max_depth=8, random_state=42,\n",
      "                       splitter='random')\n",
      "model DecisionTreeClassifier(criterion='entropy', max_depth=62, random_state=42,\n",
      "                       splitter='random')\n",
      "model DecisionTreeClassifier(criterion='entropy', max_depth=78, random_state=42,\n",
      "                       splitter='random')\n"
     ]
    },
    {
     "name": "stderr",
     "output_type": "stream",
     "text": [
      "C:\\Users\\jpohl\\anaconda3\\lib\\site-packages\\skopt\\optimizer\\optimizer.py:449: UserWarning: The objective has been evaluated at this point before.\n",
      "  warnings.warn(\"The objective has been evaluated \"\n"
     ]
    },
    {
     "name": "stdout",
     "output_type": "stream",
     "text": [
      "model DecisionTreeClassifier(criterion='entropy', max_depth=9, random_state=42)\n"
     ]
    },
    {
     "name": "stderr",
     "output_type": "stream",
     "text": [
      "C:\\Users\\jpohl\\anaconda3\\lib\\site-packages\\skopt\\optimizer\\optimizer.py:449: UserWarning: The objective has been evaluated at this point before.\n",
      "  warnings.warn(\"The objective has been evaluated \"\n"
     ]
    },
    {
     "name": "stdout",
     "output_type": "stream",
     "text": [
      "model DecisionTreeClassifier(criterion='entropy', max_depth=8, random_state=42)\n",
      "model DecisionTreeClassifier(criterion='entropy', max_depth=49, random_state=42)\n",
      "model DecisionTreeClassifier(criterion='entropy', max_depth=48, random_state=42,\n",
      "                       splitter='random')\n",
      "model DecisionTreeClassifier(criterion='entropy', max_depth=8, random_state=42,\n",
      "                       splitter='random')\n"
     ]
    },
    {
     "name": "stderr",
     "output_type": "stream",
     "text": [
      "C:\\Users\\jpohl\\anaconda3\\lib\\site-packages\\skopt\\optimizer\\optimizer.py:449: UserWarning: The objective has been evaluated at this point before.\n",
      "  warnings.warn(\"The objective has been evaluated \"\n"
     ]
    },
    {
     "ename": "KeyboardInterrupt",
     "evalue": "",
     "output_type": "error",
     "traceback": [
      "\u001b[1;31m---------------------------------------------------------------------------\u001b[0m",
      "\u001b[1;31mKeyboardInterrupt\u001b[0m                         Traceback (most recent call last)",
      "\u001b[1;32m<ipython-input-9-76b62087e364>\u001b[0m in \u001b[0;36m<module>\u001b[1;34m\u001b[0m\n\u001b[0;32m     10\u001b[0m     \u001b[1;32mreturn\u001b[0m \u001b[1;33m(\u001b[0m\u001b[1;36m1\u001b[0m \u001b[1;33m-\u001b[0m \u001b[1;33m(\u001b[0m\u001b[0mfind_model_expected_accuracy\u001b[0m\u001b[1;33m(\u001b[0m\u001b[0mX_ref\u001b[0m\u001b[1;33m,\u001b[0m \u001b[0my_ref\u001b[0m\u001b[1;33m,\u001b[0m \u001b[0mbatch_size\u001b[0m\u001b[1;33m,\u001b[0m \u001b[0mmodel\u001b[0m\u001b[1;33m=\u001b[0m\u001b[0mmodel\u001b[0m\u001b[1;33m)\u001b[0m\u001b[1;33m)\u001b[0m\u001b[1;33m[\u001b[0m\u001b[1;36m0\u001b[0m\u001b[1;33m]\u001b[0m\u001b[1;33m)\u001b[0m\u001b[1;33m\u001b[0m\u001b[1;33m\u001b[0m\u001b[0m\n\u001b[0;32m     11\u001b[0m \u001b[1;33m\u001b[0m\u001b[0m\n\u001b[1;32m---> 12\u001b[1;33m \u001b[0mres_gp\u001b[0m \u001b[1;33m=\u001b[0m \u001b[0mgp_minimize\u001b[0m\u001b[1;33m(\u001b[0m\u001b[0mobjective\u001b[0m\u001b[1;33m,\u001b[0m \u001b[0mspace\u001b[0m\u001b[1;33m,\u001b[0m \u001b[0mn_calls\u001b[0m\u001b[1;33m=\u001b[0m\u001b[1;36m100\u001b[0m\u001b[1;33m,\u001b[0m \u001b[0mrandom_state\u001b[0m\u001b[1;33m=\u001b[0m\u001b[0mrandom_state\u001b[0m\u001b[1;33m)\u001b[0m\u001b[1;33m\u001b[0m\u001b[1;33m\u001b[0m\u001b[0m\n\u001b[0m\u001b[0;32m     13\u001b[0m \u001b[1;33m\u001b[0m\u001b[0m\n\u001b[0;32m     14\u001b[0m \u001b[0mprint\u001b[0m\u001b[1;33m(\u001b[0m\u001b[1;34m\"Best accuracy=%.4f\"\u001b[0m \u001b[1;33m%\u001b[0m \u001b[1;33m(\u001b[0m\u001b[1;36m1\u001b[0m \u001b[1;33m-\u001b[0m \u001b[0mres_gp\u001b[0m\u001b[1;33m.\u001b[0m\u001b[0mfun\u001b[0m\u001b[1;33m)\u001b[0m\u001b[1;33m)\u001b[0m\u001b[1;33m\u001b[0m\u001b[1;33m\u001b[0m\u001b[0m\n",
      "\u001b[1;32m~\\anaconda3\\lib\\site-packages\\skopt\\optimizer\\gp.py\u001b[0m in \u001b[0;36mgp_minimize\u001b[1;34m(func, dimensions, base_estimator, n_calls, n_random_starts, n_initial_points, initial_point_generator, acq_func, acq_optimizer, x0, y0, random_state, verbose, callback, n_points, n_restarts_optimizer, xi, kappa, noise, n_jobs, model_queue_size)\u001b[0m\n\u001b[0;32m    266\u001b[0m         \u001b[0mn_restarts_optimizer\u001b[0m\u001b[1;33m=\u001b[0m\u001b[0mn_restarts_optimizer\u001b[0m\u001b[1;33m,\u001b[0m\u001b[1;33m\u001b[0m\u001b[1;33m\u001b[0m\u001b[0m\n\u001b[0;32m    267\u001b[0m         \u001b[0mx0\u001b[0m\u001b[1;33m=\u001b[0m\u001b[0mx0\u001b[0m\u001b[1;33m,\u001b[0m \u001b[0my0\u001b[0m\u001b[1;33m=\u001b[0m\u001b[0my0\u001b[0m\u001b[1;33m,\u001b[0m \u001b[0mrandom_state\u001b[0m\u001b[1;33m=\u001b[0m\u001b[0mrng\u001b[0m\u001b[1;33m,\u001b[0m \u001b[0mverbose\u001b[0m\u001b[1;33m=\u001b[0m\u001b[0mverbose\u001b[0m\u001b[1;33m,\u001b[0m\u001b[1;33m\u001b[0m\u001b[1;33m\u001b[0m\u001b[0m\n\u001b[1;32m--> 268\u001b[1;33m         callback=callback, n_jobs=n_jobs, model_queue_size=model_queue_size)\n\u001b[0m",
      "\u001b[1;32m~\\anaconda3\\lib\\site-packages\\skopt\\optimizer\\base.py\u001b[0m in \u001b[0;36mbase_minimize\u001b[1;34m(func, dimensions, base_estimator, n_calls, n_random_starts, n_initial_points, initial_point_generator, acq_func, acq_optimizer, x0, y0, random_state, verbose, callback, n_points, n_restarts_optimizer, xi, kappa, n_jobs, model_queue_size)\u001b[0m\n\u001b[0;32m    297\u001b[0m     \u001b[1;32mfor\u001b[0m \u001b[0mn\u001b[0m \u001b[1;32min\u001b[0m \u001b[0mrange\u001b[0m\u001b[1;33m(\u001b[0m\u001b[0mn_calls\u001b[0m\u001b[1;33m)\u001b[0m\u001b[1;33m:\u001b[0m\u001b[1;33m\u001b[0m\u001b[1;33m\u001b[0m\u001b[0m\n\u001b[0;32m    298\u001b[0m         \u001b[0mnext_x\u001b[0m \u001b[1;33m=\u001b[0m \u001b[0moptimizer\u001b[0m\u001b[1;33m.\u001b[0m\u001b[0mask\u001b[0m\u001b[1;33m(\u001b[0m\u001b[1;33m)\u001b[0m\u001b[1;33m\u001b[0m\u001b[1;33m\u001b[0m\u001b[0m\n\u001b[1;32m--> 299\u001b[1;33m         \u001b[0mnext_y\u001b[0m \u001b[1;33m=\u001b[0m \u001b[0mfunc\u001b[0m\u001b[1;33m(\u001b[0m\u001b[0mnext_x\u001b[0m\u001b[1;33m)\u001b[0m\u001b[1;33m\u001b[0m\u001b[1;33m\u001b[0m\u001b[0m\n\u001b[0m\u001b[0;32m    300\u001b[0m         \u001b[0mresult\u001b[0m \u001b[1;33m=\u001b[0m \u001b[0moptimizer\u001b[0m\u001b[1;33m.\u001b[0m\u001b[0mtell\u001b[0m\u001b[1;33m(\u001b[0m\u001b[0mnext_x\u001b[0m\u001b[1;33m,\u001b[0m \u001b[0mnext_y\u001b[0m\u001b[1;33m)\u001b[0m\u001b[1;33m\u001b[0m\u001b[1;33m\u001b[0m\u001b[0m\n\u001b[0;32m    301\u001b[0m         \u001b[0mresult\u001b[0m\u001b[1;33m.\u001b[0m\u001b[0mspecs\u001b[0m \u001b[1;33m=\u001b[0m \u001b[0mspecs\u001b[0m\u001b[1;33m\u001b[0m\u001b[1;33m\u001b[0m\u001b[0m\n",
      "\u001b[1;32m~\\anaconda3\\lib\\site-packages\\skopt\\utils.py\u001b[0m in \u001b[0;36mwrapper\u001b[1;34m(x)\u001b[0m\n\u001b[0;32m    787\u001b[0m \u001b[1;33m\u001b[0m\u001b[0m\n\u001b[0;32m    788\u001b[0m             \u001b[1;31m# Call the wrapped objective function with the named arguments.\u001b[0m\u001b[1;33m\u001b[0m\u001b[1;33m\u001b[0m\u001b[1;33m\u001b[0m\u001b[0m\n\u001b[1;32m--> 789\u001b[1;33m             \u001b[0mobjective_value\u001b[0m \u001b[1;33m=\u001b[0m \u001b[0mfunc\u001b[0m\u001b[1;33m(\u001b[0m\u001b[1;33m**\u001b[0m\u001b[0marg_dict\u001b[0m\u001b[1;33m)\u001b[0m\u001b[1;33m\u001b[0m\u001b[1;33m\u001b[0m\u001b[0m\n\u001b[0m\u001b[0;32m    790\u001b[0m \u001b[1;33m\u001b[0m\u001b[0m\n\u001b[0;32m    791\u001b[0m             \u001b[1;32mreturn\u001b[0m \u001b[0mobjective_value\u001b[0m\u001b[1;33m\u001b[0m\u001b[1;33m\u001b[0m\u001b[0m\n",
      "\u001b[1;32m<ipython-input-9-76b62087e364>\u001b[0m in \u001b[0;36mobjective\u001b[1;34m(**params)\u001b[0m\n\u001b[0;32m      8\u001b[0m \u001b[1;32mdef\u001b[0m \u001b[0mobjective\u001b[0m\u001b[1;33m(\u001b[0m\u001b[1;33m**\u001b[0m\u001b[0mparams\u001b[0m\u001b[1;33m)\u001b[0m\u001b[1;33m:\u001b[0m\u001b[1;33m\u001b[0m\u001b[1;33m\u001b[0m\u001b[0m\n\u001b[0;32m      9\u001b[0m     \u001b[0mmodel\u001b[0m\u001b[1;33m.\u001b[0m\u001b[0mset_params\u001b[0m\u001b[1;33m(\u001b[0m\u001b[1;33m**\u001b[0m\u001b[0mparams\u001b[0m\u001b[1;33m)\u001b[0m\u001b[1;33m\u001b[0m\u001b[1;33m\u001b[0m\u001b[0m\n\u001b[1;32m---> 10\u001b[1;33m     \u001b[1;32mreturn\u001b[0m \u001b[1;33m(\u001b[0m\u001b[1;36m1\u001b[0m \u001b[1;33m-\u001b[0m \u001b[1;33m(\u001b[0m\u001b[0mfind_model_expected_accuracy\u001b[0m\u001b[1;33m(\u001b[0m\u001b[0mX_ref\u001b[0m\u001b[1;33m,\u001b[0m \u001b[0my_ref\u001b[0m\u001b[1;33m,\u001b[0m \u001b[0mbatch_size\u001b[0m\u001b[1;33m,\u001b[0m \u001b[0mmodel\u001b[0m\u001b[1;33m=\u001b[0m\u001b[0mmodel\u001b[0m\u001b[1;33m)\u001b[0m\u001b[1;33m)\u001b[0m\u001b[1;33m[\u001b[0m\u001b[1;36m0\u001b[0m\u001b[1;33m]\u001b[0m\u001b[1;33m)\u001b[0m\u001b[1;33m\u001b[0m\u001b[1;33m\u001b[0m\u001b[0m\n\u001b[0m\u001b[0;32m     11\u001b[0m \u001b[1;33m\u001b[0m\u001b[0m\n\u001b[0;32m     12\u001b[0m \u001b[0mres_gp\u001b[0m \u001b[1;33m=\u001b[0m \u001b[0mgp_minimize\u001b[0m\u001b[1;33m(\u001b[0m\u001b[0mobjective\u001b[0m\u001b[1;33m,\u001b[0m \u001b[0mspace\u001b[0m\u001b[1;33m,\u001b[0m \u001b[0mn_calls\u001b[0m\u001b[1;33m=\u001b[0m\u001b[1;36m100\u001b[0m\u001b[1;33m,\u001b[0m \u001b[0mrandom_state\u001b[0m\u001b[1;33m=\u001b[0m\u001b[0mrandom_state\u001b[0m\u001b[1;33m)\u001b[0m\u001b[1;33m\u001b[0m\u001b[1;33m\u001b[0m\u001b[0m\n",
      "\u001b[1;32m<ipython-input-4-37c02c43a3ef>\u001b[0m in \u001b[0;36mfind_model_expected_accuracy\u001b[1;34m(X, y, batch_size, model, min_runs, std_err_threshold)\u001b[0m\n\u001b[0;32m     30\u001b[0m         X_extracted_batch, X_rest, y_extracted_batch, y_rest = take_out_random_batch(\n\u001b[0;32m     31\u001b[0m             X_ref, y_ref, batch_size, random_state=current_random_state)\n\u001b[1;32m---> 32\u001b[1;33m         \u001b[0my_pred\u001b[0m \u001b[1;33m=\u001b[0m \u001b[0mmodel\u001b[0m\u001b[1;33m.\u001b[0m\u001b[0mfit\u001b[0m\u001b[1;33m(\u001b[0m\u001b[0mX_rest\u001b[0m\u001b[1;33m,\u001b[0m \u001b[0my_rest\u001b[0m\u001b[1;33m)\u001b[0m\u001b[1;33m.\u001b[0m\u001b[0mpredict\u001b[0m\u001b[1;33m(\u001b[0m\u001b[0mX_extracted_batch\u001b[0m\u001b[1;33m)\u001b[0m\u001b[1;33m\u001b[0m\u001b[1;33m\u001b[0m\u001b[0m\n\u001b[0m\u001b[0;32m     33\u001b[0m         \u001b[0maccuracies\u001b[0m\u001b[1;33m.\u001b[0m\u001b[0mappend\u001b[0m\u001b[1;33m(\u001b[0m\u001b[0maccuracy_score\u001b[0m\u001b[1;33m(\u001b[0m\u001b[0my_extracted_batch\u001b[0m\u001b[1;33m,\u001b[0m \u001b[0my_pred\u001b[0m\u001b[1;33m)\u001b[0m\u001b[1;33m)\u001b[0m\u001b[1;33m\u001b[0m\u001b[1;33m\u001b[0m\u001b[0m\n\u001b[0;32m     34\u001b[0m         \u001b[1;32mif\u001b[0m \u001b[0mlen\u001b[0m\u001b[1;33m(\u001b[0m\u001b[0maccuracies\u001b[0m\u001b[1;33m)\u001b[0m \u001b[1;33m>\u001b[0m \u001b[1;36m1\u001b[0m\u001b[1;33m:\u001b[0m\u001b[1;33m\u001b[0m\u001b[1;33m\u001b[0m\u001b[0m\n",
      "\u001b[1;32m~\\anaconda3\\lib\\site-packages\\sklearn\\tree\\_classes.py\u001b[0m in \u001b[0;36mfit\u001b[1;34m(self, X, y, sample_weight, check_input, X_idx_sorted)\u001b[0m\n\u001b[0;32m    940\u001b[0m             \u001b[0msample_weight\u001b[0m\u001b[1;33m=\u001b[0m\u001b[0msample_weight\u001b[0m\u001b[1;33m,\u001b[0m\u001b[1;33m\u001b[0m\u001b[1;33m\u001b[0m\u001b[0m\n\u001b[0;32m    941\u001b[0m             \u001b[0mcheck_input\u001b[0m\u001b[1;33m=\u001b[0m\u001b[0mcheck_input\u001b[0m\u001b[1;33m,\u001b[0m\u001b[1;33m\u001b[0m\u001b[1;33m\u001b[0m\u001b[0m\n\u001b[1;32m--> 942\u001b[1;33m             \u001b[0mX_idx_sorted\u001b[0m\u001b[1;33m=\u001b[0m\u001b[0mX_idx_sorted\u001b[0m\u001b[1;33m,\u001b[0m\u001b[1;33m\u001b[0m\u001b[1;33m\u001b[0m\u001b[0m\n\u001b[0m\u001b[0;32m    943\u001b[0m         )\n\u001b[0;32m    944\u001b[0m         \u001b[1;32mreturn\u001b[0m \u001b[0mself\u001b[0m\u001b[1;33m\u001b[0m\u001b[1;33m\u001b[0m\u001b[0m\n",
      "\u001b[1;32m~\\anaconda3\\lib\\site-packages\\sklearn\\tree\\_classes.py\u001b[0m in \u001b[0;36mfit\u001b[1;34m(self, X, y, sample_weight, check_input, X_idx_sorted)\u001b[0m\n\u001b[0;32m    418\u001b[0m             )\n\u001b[0;32m    419\u001b[0m \u001b[1;33m\u001b[0m\u001b[0m\n\u001b[1;32m--> 420\u001b[1;33m         \u001b[0mbuilder\u001b[0m\u001b[1;33m.\u001b[0m\u001b[0mbuild\u001b[0m\u001b[1;33m(\u001b[0m\u001b[0mself\u001b[0m\u001b[1;33m.\u001b[0m\u001b[0mtree_\u001b[0m\u001b[1;33m,\u001b[0m \u001b[0mX\u001b[0m\u001b[1;33m,\u001b[0m \u001b[0my\u001b[0m\u001b[1;33m,\u001b[0m \u001b[0msample_weight\u001b[0m\u001b[1;33m)\u001b[0m\u001b[1;33m\u001b[0m\u001b[1;33m\u001b[0m\u001b[0m\n\u001b[0m\u001b[0;32m    421\u001b[0m \u001b[1;33m\u001b[0m\u001b[0m\n\u001b[0;32m    422\u001b[0m         \u001b[1;32mif\u001b[0m \u001b[0mself\u001b[0m\u001b[1;33m.\u001b[0m\u001b[0mn_outputs_\u001b[0m \u001b[1;33m==\u001b[0m \u001b[1;36m1\u001b[0m \u001b[1;32mand\u001b[0m \u001b[0mis_classifier\u001b[0m\u001b[1;33m(\u001b[0m\u001b[0mself\u001b[0m\u001b[1;33m)\u001b[0m\u001b[1;33m:\u001b[0m\u001b[1;33m\u001b[0m\u001b[1;33m\u001b[0m\u001b[0m\n",
      "\u001b[1;31mKeyboardInterrupt\u001b[0m: "
     ]
    }
   ],
   "source": [
    "model = DecisionTreeClassifier(random_state=random_state) # best accuracy = 0.7334\n",
    "\n",
    "space  = [Categorical(['gini', 'entropy'], name='criterion'), # best = 'entropy'\n",
    "         Categorical(['best', 'random'], name='splitter'), # best = 'random'\n",
    "         Integer(1, 100, name='max_depth')] # best = 8\n",
    "\n",
    "@use_named_args(space)\n",
    "def objective(**params):\n",
    "    model.set_params(**params)\n",
    "    return (1 - (find_model_expected_accuracy(X_ref, y_ref, batch_size, model=model))[0])\n",
    "\n",
    "res_gp = gp_minimize(objective, space, n_calls=100, random_state=random_state)\n",
    "\n",
    "print(\"Best accuracy=%.4f\" % (1 - res_gp.fun))\n",
    "print(\"\"\"Best parameters:\"\"\", res_gp.x)\n",
    "plot_convergence(res_gp)\n",
    "model_final_accuracies[\"DecisionTreeClassifier\"] = (1 - res_gp.fun)"
   ]
  },
  {
   "cell_type": "markdown",
   "id": "4fbd5535",
   "metadata": {},
   "source": [
    "### Try k nearest neighbors"
   ]
  },
  {
   "cell_type": "code",
   "execution_count": null,
   "id": "819990b9",
   "metadata": {},
   "outputs": [],
   "source": [
    "model = KNeighborsClassifier() # best accuracy = 0.7627\n",
    "\n",
    "space  = [Integer(1, 100, name='n_neighbors')] # best = 21\n",
    "\n",
    "@use_named_args(space)\n",
    "def objective(**params):\n",
    "    model.set_params(**params)\n",
    "    return (1 - (find_model_expected_accuracy(X_ref, y_ref, batch_size, model=model))[0])\n",
    "\n",
    "res_gp = gp_minimize(objective, space, n_calls=100, random_state=random_state)\n",
    "\n",
    "print(\"Best accuracy=%.4f\" % (1 - res_gp.fun))\n",
    "print(\"\"\"Best parameters:\"\"\", res_gp.x)\n",
    "plot_convergence(res_gp)\n",
    "model_final_accuracies[\"KNeighborsClassifier\"] = (1 - res_gp.fun)"
   ]
  },
  {
   "cell_type": "markdown",
   "id": "692753cf",
   "metadata": {},
   "source": [
    "### Try SVM"
   ]
  },
  {
   "cell_type": "code",
   "execution_count": null,
   "id": "8876b9e0",
   "metadata": {},
   "outputs": [],
   "source": [
    "model = SVC(random_state=random_state) # best accuracy = 0.7926\n",
    "\n",
    "space  = [Real(0.1, 20, name='C')] # best = 11.98\n",
    "\n",
    "@use_named_args(space)\n",
    "def objective(**params):\n",
    "    model.set_params(**params)\n",
    "    return (1 - (find_model_expected_accuracy(X_ref, y_ref, batch_size, model=model))[0])\n",
    "\n",
    "res_gp = gp_minimize(objective, space, n_calls=10, random_state=random_state)\n",
    "\n",
    "print(\"Best accuracy=%.4f\" % (1 - res_gp.fun))\n",
    "print(\"\"\"Best parameters:\"\"\", res_gp.x)\n",
    "plot_convergence(res_gp)\n",
    "model_final_accuracies[\"SVM\"] = (1 - res_gp.fun)"
   ]
  },
  {
   "cell_type": "markdown",
   "id": "39f2cdf7",
   "metadata": {},
   "source": [
    "### Try logistic regression"
   ]
  },
  {
   "cell_type": "code",
   "execution_count": null,
   "id": "a23a223a",
   "metadata": {},
   "outputs": [],
   "source": [
    "model = LogisticRegression(random_state=random_state, max_iter=10000) # best accuracy = 0.7723\n",
    "\n",
    "space  = [Real(0.1, 20, name='C')] # best = 9.03\n",
    "\n",
    "@use_named_args(space)\n",
    "def objective(**params):\n",
    "    model.set_params(**params)\n",
    "    return (1 - (find_model_expected_accuracy(X_ref, y_ref, batch_size, model=model))[0])\n",
    "\n",
    "res_gp = gp_minimize(objective, space, n_calls=100, random_state=random_state)\n",
    "\n",
    "print(\"Best accuracy=%.4f\" % (1 - res_gp.fun))\n",
    "print(\"\"\"Best parameters:\"\"\", res_gp.x)\n",
    "plot_convergence(res_gp)\n",
    "model_final_accuracies[\"LogisticRegression\"] = (1 - res_gp.fun)"
   ]
  },
  {
   "cell_type": "markdown",
   "id": "a8472442",
   "metadata": {},
   "source": [
    "## Use the best model to define drifting batches"
   ]
  },
  {
   "cell_type": "markdown",
   "id": "bc7adc61",
   "metadata": {},
   "source": [
    "### Find the best model through accuracies"
   ]
  },
  {
   "cell_type": "code",
   "execution_count": 6,
   "id": "ae49cb83",
   "metadata": {},
   "outputs": [
    {
     "name": "stdout",
     "output_type": "stream",
     "text": [
      "best obtained model accuracies:\n"
     ]
    },
    {
     "ename": "NameError",
     "evalue": "name 'model_final_accuracies' is not defined",
     "output_type": "error",
     "traceback": [
      "\u001b[1;31m---------------------------------------------------------------------------\u001b[0m",
      "\u001b[1;31mNameError\u001b[0m                                 Traceback (most recent call last)",
      "Cell \u001b[1;32mIn[6], line 2\u001b[0m\n\u001b[0;32m      1\u001b[0m \u001b[38;5;28mprint\u001b[39m(\u001b[38;5;124m'\u001b[39m\u001b[38;5;124mbest obtained model accuracies:\u001b[39m\u001b[38;5;124m'\u001b[39m)\n\u001b[1;32m----> 2\u001b[0m \u001b[38;5;28mprint\u001b[39m(\u001b[43mmodel_final_accuracies\u001b[49m)\n",
      "\u001b[1;31mNameError\u001b[0m: name 'model_final_accuracies' is not defined"
     ]
    }
   ],
   "source": [
    "print('best obtained model accuracies:')\n",
    "print(model_final_accuracies)"
   ]
  },
  {
   "cell_type": "markdown",
   "id": "c7f4141b",
   "metadata": {},
   "source": [
    "### Define the model with the best parameters (hardcoded in the cells above), get its accuracy information"
   ]
  },
  {
   "cell_type": "code",
   "execution_count": 9,
   "id": "8638e22f",
   "metadata": {},
   "outputs": [
    {
     "name": "stdout",
     "output_type": "stream",
     "text": [
      "model SVC(C=11.98, random_state=42)\n",
      "expected accuracy: 0.7926027397260275\n",
      "expected standard deviation: 0.022494135096006597\n"
     ]
    }
   ],
   "source": [
    "best_model = SVC(random_state=random_state, C=11.98)\n",
    "expected_accuracy, expected_standard_deviation = find_model_expected_accuracy(X_ref, y_ref, batch_size, model=best_model)\n",
    "print('expected accuracy:', expected_accuracy)\n",
    "print('expected standard deviation:', expected_standard_deviation)"
   ]
  },
  {
   "cell_type": "markdown",
   "id": "37731846",
   "metadata": {},
   "source": [
    "### Fit the model on all reference data"
   ]
  },
  {
   "cell_type": "code",
   "execution_count": 10,
   "id": "e96a1db6",
   "metadata": {},
   "outputs": [],
   "source": [
    "best_model_fitted = SVC(random_state=random_state, C=11.98).fit(X_ref, y_ref)"
   ]
  },
  {
   "cell_type": "markdown",
   "id": "ed2eeecf",
   "metadata": {},
   "source": [
    "### Split testing data to batches"
   ]
  },
  {
   "cell_type": "code",
   "execution_count": 16,
   "id": "b387ad16",
   "metadata": {},
   "outputs": [
    {
     "name": "stdout",
     "output_type": "stream",
     "text": [
      "chunk size 365\n",
      "number of chunks 33\n",
      "number of data 12106\n",
      "shape of X that can be split perfectly (12045, 8)\n",
      "number of resulting batches 33\n",
      "[[0.80538922 0.84       0.57272727 ... 0.16985138 0.00855777 0.7854954 ]\n",
      " [0.82035928 0.85853659 0.56060606 ... 0.14861996 0.00936756 0.7854954 ]\n",
      " [0.88922156 0.87804878 0.49242424 ... 0.1910828  0.00965749 0.86823289]\n",
      " ...\n",
      " [0.78043912 0.83804878 0.61969697 ... 0.14861996 0.00814788 0.80183861]\n",
      " [0.77844311 0.87219512 0.61363636 ... 0.19532909 0.00850779 0.80183861]\n",
      " [0.81736527 0.88780488 0.58333333 ... 0.492569   0.00868774 0.82022472]]\n",
      "(365, 8)\n"
     ]
    }
   ],
   "source": [
    "def split_to_fixed_size_batches(X, y, batch_size):\n",
    "    \"\"\"Split X and y to batches of the given batch_size\"\"\"\n",
    "    chunk_size = batch_size\n",
    "    print('chunk size', chunk_size)\n",
    "\n",
    "    num_chunks = (X.shape[0] - (X.shape[0] % chunk_size)) // chunk_size\n",
    "    print('number of chunks', num_chunks)\n",
    "    print('number of data', X.shape[0])\n",
    "    X_perfect_size = X[:-(X.shape[0] % chunk_size), :]\n",
    "    y_perfect_size = y[:-(y.shape[0] % chunk_size)]\n",
    "    print('shape of X that can be split perfectly', X_perfect_size.shape)\n",
    "    X_batches = np.array_split(X_perfect_size, num_chunks)\n",
    "    y_batches = np.array_split(y_perfect_size, num_chunks)\n",
    "\n",
    "    print('number of resulting batches', len(X_batches))\n",
    "    print(X_batches[0])\n",
    "    print(X_batches[0].shape)\n",
    "    \n",
    "    return X_batches, y_batches\n",
    "\n",
    "\n",
    "X_test_batches, y_test_batches = split_to_fixed_size_batches(X_test, y_test, batch_size=batch_size)"
   ]
  },
  {
   "cell_type": "markdown",
   "id": "d8957d86",
   "metadata": {},
   "source": [
    "### Find test batch accuracies"
   ]
  },
  {
   "cell_type": "code",
   "execution_count": 17,
   "id": "36de5252",
   "metadata": {},
   "outputs": [
    {
     "name": "stdout",
     "output_type": "stream",
     "text": [
      "\n",
      "TEST BATCH ACCURACIES\n",
      "[0.7780821917808219, 0.7671232876712328, 0.7534246575342466, 0.7506849315068493, 0.8027397260273973, 0.726027397260274, 0.8465753424657534, 0.7945205479452054, 0.8164383561643835, 0.863013698630137, 0.7698630136986301, 0.7643835616438356, 0.7863013698630137, 0.7753424657534247, 0.6821917808219178, 0.7534246575342466, 0.7534246575342466, 0.7068493150684931, 0.7835616438356164, 0.7945205479452054, 0.7780821917808219, 0.7616438356164383, 0.7863013698630137, 0.7534246575342466, 0.7698630136986301, 0.7808219178082192, 0.7424657534246575, 0.7589041095890411, 0.7671232876712328, 0.7753424657534247, 0.863013698630137, 0.7534246575342466, 0.7616438356164383]\n"
     ]
    }
   ],
   "source": [
    "accs = []\n",
    "for batch in range(len(X_test_batches)):\n",
    "    accs.append(accuracy_score(y_test_batches[batch], best_model.predict(X_test_batches[batch])))\n",
    "    \n",
    "print('\\nTEST BATCH ACCURACIES')\n",
    "print(accs)"
   ]
  },
  {
   "cell_type": "markdown",
   "id": "ec8a9263",
   "metadata": {},
   "source": [
    "### Show drifting batches visually (below red line = drift)"
   ]
  },
  {
   "cell_type": "code",
   "execution_count": 18,
   "id": "f45019cd",
   "metadata": {},
   "outputs": [
    {
     "data": {
      "image/png": "[encoded data removed]",
      "text/plain": [
       "<Figure size 640x480 with 1 Axes>"
      ]
     },
     "metadata": {},
     "output_type": "display_data"
    }
   ],
   "source": [
    "total_num_batches = len(X_test_batches)\n",
    "barlist = plt.bar(range(total_num_batches), accs)\n",
    "plt.hlines(y=expected_accuracy - expected_standard_deviation, xmin=0, xmax=total_num_batches,\n",
    "           color='r', label='mean accuracy minus standard deviation')\n",
    "plt.legend(loc='upper center')\n",
    "plt.show()"
   ]
  },
  {
   "cell_type": "markdown",
   "id": "469404f6",
   "metadata": {},
   "source": [
    "### Define drifting batches"
   ]
  },
  {
   "cell_type": "code",
   "execution_count": 19,
   "id": "f84a80c4",
   "metadata": {},
   "outputs": [
    {
     "name": "stdout",
     "output_type": "stream",
     "text": [
      "Drift in first 10 batches\n",
      "[False, True, True, True, False, True, False, False, False, False]\n"
     ]
    }
   ],
   "source": [
    "# define the batches with and without drift (same as the plot above)\n",
    "\n",
    "drift_boolean_mask = [True if acc < expected_accuracy - expected_standard_deviation else False for acc in accs]\n",
    "print('Drift in first 10 batches')\n",
    "print(drift_boolean_mask[:10])"
   ]
  },
  {
   "cell_type": "markdown",
   "id": "d67501ad",
   "metadata": {},
   "source": [
    "### Store the result in a file"
   ]
  },
  {
   "cell_type": "code",
   "execution_count": 20,
   "id": "ffeb0820",
   "metadata": {},
   "outputs": [],
   "source": [
    "import csv\n",
    "with open('weather_yearly_drifts.csv', 'w') as f:\n",
    "    wrtr = csv.writer(f)\n",
    "    wrtr.writerow(drift_boolean_mask)"
   ]
  },
  {
   "cell_type": "code",
   "execution_count": null,
   "id": "3072bebe",
   "metadata": {},
   "outputs": [],
   "source": []
  }
 ],
 "metadata": {
  "kernelspec": {
   "display_name": "Python 3 (ipykernel)",
   "language": "python",
   "name": "python3"
  },
  "language_info": {
   "codemirror_mode": {
    "name": "ipython",
    "version": 3
   },
   "file_extension": ".py",
   "mimetype": "text/x-python",
   "name": "python",
   "nbconvert_exporter": "python",
   "pygments_lexer": "ipython3",
   "version": "3.9.10"
  }
 },
 "nbformat": 4,
 "nbformat_minor": 5
}
