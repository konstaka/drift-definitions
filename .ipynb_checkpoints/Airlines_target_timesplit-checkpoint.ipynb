{
 "cells": [
  {
   "cell_type": "code",
   "execution_count": 1,
   "id": "63f3066c",
   "metadata": {},
   "outputs": [],
   "source": [
    "import numpy as np\n",
    "import pandas as pd\n",
    "import math\n",
    "from scipy.io import arff\n",
    "from sklearn.model_selection import train_test_split, cross_val_score\n",
    "from sklearn.preprocessing import LabelEncoder, MinMaxScaler, OneHotEncoder, OrdinalEncoder\n",
    "from category_encoders import TargetEncoder\n",
    "from sklearn.neighbors import KNeighborsClassifier\n",
    "from sklearn.ensemble import RandomForestClassifier\n",
    "from sklearn import svm\n",
    "from sklearn.naive_bayes import GaussianNB\n",
    "from sklearn.linear_model import LogisticRegression, Perceptron\n",
    "from sklearn.decomposition import PCA\n",
    "from scipy.stats import rankdata, norm, gaussian_kde\n",
    "import matplotlib.pyplot as plt\n",
    "from random import randrange\n",
    "\n",
    "from warnings import simplefilter\n",
    "simplefilter(action='ignore', category=FutureWarning)"
   ]
  },
  {
   "cell_type": "code",
   "execution_count": 2,
   "id": "d87431f4",
   "metadata": {},
   "outputs": [
    {
     "data": {
      "text/html": [
       "<div>\n",
       "<style scoped>\n",
       "    .dataframe tbody tr th:only-of-type {\n",
       "        vertical-align: middle;\n",
       "    }\n",
       "\n",
       "    .dataframe tbody tr th {\n",
       "        vertical-align: top;\n",
       "    }\n",
       "\n",
       "    .dataframe thead th {\n",
       "        text-align: right;\n",
       "    }\n",
       "</style>\n",
       "<table border=\"1\" class=\"dataframe\">\n",
       "  <thead>\n",
       "    <tr style=\"text-align: right;\">\n",
       "      <th></th>\n",
       "      <th>Unnamed: 0</th>\n",
       "      <th>Airline</th>\n",
       "      <th>Flight</th>\n",
       "      <th>Time</th>\n",
       "      <th>Length</th>\n",
       "      <th>Delay</th>\n",
       "    </tr>\n",
       "  </thead>\n",
       "  <tbody>\n",
       "    <tr>\n",
       "      <th>0</th>\n",
       "      <td>0</td>\n",
       "      <td>b'CO'</td>\n",
       "      <td>269.0</td>\n",
       "      <td>15.0</td>\n",
       "      <td>205.0</td>\n",
       "      <td>1</td>\n",
       "    </tr>\n",
       "    <tr>\n",
       "      <th>1</th>\n",
       "      <td>1</td>\n",
       "      <td>b'US'</td>\n",
       "      <td>1558.0</td>\n",
       "      <td>15.0</td>\n",
       "      <td>222.0</td>\n",
       "      <td>1</td>\n",
       "    </tr>\n",
       "    <tr>\n",
       "      <th>2</th>\n",
       "      <td>2</td>\n",
       "      <td>b'AA'</td>\n",
       "      <td>2400.0</td>\n",
       "      <td>20.0</td>\n",
       "      <td>165.0</td>\n",
       "      <td>1</td>\n",
       "    </tr>\n",
       "    <tr>\n",
       "      <th>3</th>\n",
       "      <td>3</td>\n",
       "      <td>b'AA'</td>\n",
       "      <td>2466.0</td>\n",
       "      <td>20.0</td>\n",
       "      <td>195.0</td>\n",
       "      <td>1</td>\n",
       "    </tr>\n",
       "    <tr>\n",
       "      <th>4</th>\n",
       "      <td>4</td>\n",
       "      <td>b'AS'</td>\n",
       "      <td>108.0</td>\n",
       "      <td>30.0</td>\n",
       "      <td>202.0</td>\n",
       "      <td>0</td>\n",
       "    </tr>\n",
       "  </tbody>\n",
       "</table>\n",
       "</div>"
      ],
      "text/plain": [
       "   Unnamed: 0 Airline  Flight  Time  Length  Delay\n",
       "0           0   b'CO'   269.0  15.0   205.0      1\n",
       "1           1   b'US'  1558.0  15.0   222.0      1\n",
       "2           2   b'AA'  2400.0  20.0   165.0      1\n",
       "3           3   b'AA'  2466.0  20.0   195.0      1\n",
       "4           4   b'AS'   108.0  30.0   202.0      0"
      ]
     },
     "execution_count": 2,
     "metadata": {},
     "output_type": "execute_result"
    }
   ],
   "source": [
    "filename = \"real_world_data/airline_dataset.csv\"\n",
    "data = pd.read_csv(filename)\n",
    "df = pd.DataFrame(data)\n",
    "df.head()"
   ]
  },
  {
   "cell_type": "code",
   "execution_count": 3,
   "id": "80ba1582",
   "metadata": {},
   "outputs": [
    {
     "name": "stdout",
     "output_type": "stream",
     "text": [
      "(179794, 4)\n",
      "(359589, 4)\n",
      "(179794, 1)\n",
      "(359589, 1)\n"
     ]
    },
    {
     "data": {
      "text/html": [
       "<div>\n",
       "<style scoped>\n",
       "    .dataframe tbody tr th:only-of-type {\n",
       "        vertical-align: middle;\n",
       "    }\n",
       "\n",
       "    .dataframe tbody tr th {\n",
       "        vertical-align: top;\n",
       "    }\n",
       "\n",
       "    .dataframe thead th {\n",
       "        text-align: right;\n",
       "    }\n",
       "</style>\n",
       "<table border=\"1\" class=\"dataframe\">\n",
       "  <thead>\n",
       "    <tr style=\"text-align: right;\">\n",
       "      <th></th>\n",
       "      <th>0</th>\n",
       "      <th>1</th>\n",
       "      <th>2</th>\n",
       "      <th>3</th>\n",
       "    </tr>\n",
       "  </thead>\n",
       "  <tbody>\n",
       "    <tr>\n",
       "      <th>0</th>\n",
       "      <td>0.658216</td>\n",
       "      <td>0.034306</td>\n",
       "      <td>0.003499</td>\n",
       "      <td>0.312977</td>\n",
       "    </tr>\n",
       "    <tr>\n",
       "      <th>1</th>\n",
       "      <td>0.220048</td>\n",
       "      <td>0.199309</td>\n",
       "      <td>0.003499</td>\n",
       "      <td>0.338931</td>\n",
       "    </tr>\n",
       "    <tr>\n",
       "      <th>2</th>\n",
       "      <td>0.365433</td>\n",
       "      <td>0.307092</td>\n",
       "      <td>0.006998</td>\n",
       "      <td>0.251908</td>\n",
       "    </tr>\n",
       "    <tr>\n",
       "      <th>3</th>\n",
       "      <td>0.365433</td>\n",
       "      <td>0.315540</td>\n",
       "      <td>0.006998</td>\n",
       "      <td>0.297710</td>\n",
       "    </tr>\n",
       "    <tr>\n",
       "      <th>4</th>\n",
       "      <td>0.281152</td>\n",
       "      <td>0.013697</td>\n",
       "      <td>0.013996</td>\n",
       "      <td>0.308397</td>\n",
       "    </tr>\n",
       "  </tbody>\n",
       "</table>\n",
       "</div>"
      ],
      "text/plain": [
       "          0         1         2         3\n",
       "0  0.658216  0.034306  0.003499  0.312977\n",
       "1  0.220048  0.199309  0.003499  0.338931\n",
       "2  0.365433  0.307092  0.006998  0.251908\n",
       "3  0.365433  0.315540  0.006998  0.297710\n",
       "4  0.281152  0.013697  0.013996  0.308397"
      ]
     },
     "execution_count": 3,
     "metadata": {},
     "output_type": "execute_result"
    }
   ],
   "source": [
    "train = df.iloc[:179794,:]\n",
    "test = df.iloc[179794:,:]\n",
    "\n",
    "te = TargetEncoder(cols=[\"Airline\"], smoothing=0, return_df=False)\n",
    "\n",
    "X_train = train.drop(columns=[\"Delay\", \"Unnamed: 0\"])\n",
    "X_test = test.drop(columns=[\"Delay\", \"Unnamed: 0\"])\n",
    "\n",
    "y_train = train[[\"Delay\"]]\n",
    "y_test = test[[\"Delay\"]]\n",
    "\n",
    "X_train = te.fit_transform(X_train, y_train)\n",
    "X_test = te.transform(X_test)\n",
    "\n",
    "scaler = MinMaxScaler()\n",
    "\n",
    "X_train = pd.DataFrame(scaler.fit_transform(X_train))\n",
    "X_test = pd.DataFrame(scaler.transform(X_test))\n",
    "\n",
    "print(X_train.shape)\n",
    "print(X_test.shape)\n",
    "print(y_train.shape)\n",
    "print(y_test.shape)\n",
    "\n",
    "X_train.head()"
   ]
  },
  {
   "cell_type": "code",
   "execution_count": 4,
   "id": "7fcd9f18",
   "metadata": {
    "scrolled": false
   },
   "outputs": [
    {
     "name": "stdout",
     "output_type": "stream",
     "text": [
      "111794\n"
     ]
    },
    {
     "data": {
      "image/png": "[encoded data removed]",
      "text/plain": [
       "<Figure size 640x480 with 1 Axes>"
      ]
     },
     "metadata": {},
     "output_type": "display_data"
    },
    {
     "data": {
      "image/png": "[encoded data removed]",
      "text/plain": [
       "<Figure size 640x480 with 1 Axes>"
      ]
     },
     "metadata": {},
     "output_type": "display_data"
    }
   ],
   "source": [
    "# Check for overfitting by employing time-based splitting; comparing random forest with kNN\n",
    "\n",
    "# Remove 4 last batches from the training set\n",
    "timesplit_test_start = 179794 - 4 * 17000\n",
    "print(timesplit_test_start)\n",
    "\n",
    "timesplit_train = df.iloc[:timesplit_test_start,:]\n",
    "timesplit_test = df.iloc[timesplit_test_start:,:]\n",
    "\n",
    "timesplit_te = TargetEncoder(cols=[\"Airline\"], smoothing=0, return_df=False)\n",
    "\n",
    "timesplit_X_train = timesplit_train.drop(columns=[\"Delay\", \"Unnamed: 0\"])\n",
    "timesplit_X_test = timesplit_test.drop(columns=[\"Delay\", \"Unnamed: 0\"])\n",
    "\n",
    "timesplit_y_train = timesplit_train[[\"Delay\"]]\n",
    "timesplit_y_test = timesplit_test[[\"Delay\"]]\n",
    "\n",
    "timesplit_X_train = timesplit_te.fit_transform(timesplit_X_train, timesplit_y_train)\n",
    "timesplit_X_test = timesplit_te.transform(timesplit_X_test)\n",
    "\n",
    "timesplit_scaler = MinMaxScaler()\n",
    "\n",
    "timesplit_X_train = pd.DataFrame(timesplit_scaler.fit_transform(timesplit_X_train))\n",
    "timesplit_X_test = pd.DataFrame(timesplit_scaler.transform(timesplit_X_test))\n",
    "\n",
    "\n",
    "timesplit_X_test_batches = np.array_split(timesplit_X_train, 6)\n",
    "timesplit_y_test_batches = np.array_split(timesplit_y_train, 6)\n",
    "\n",
    "timesplit_i = 0\n",
    "while timesplit_i < len(timesplit_X_test):\n",
    "    new_i = timesplit_i + 17000\n",
    "    if new_i > len(timesplit_X_test):\n",
    "        new_i = len(timesplit_X_test)\n",
    "    timesplit_X_test_batches.append(timesplit_X_test[timesplit_i: new_i])\n",
    "    timesplit_y_test_batches.append(timesplit_y_test[timesplit_i: new_i])\n",
    "    timesplit_i = new_i\n",
    "\n",
    "expected_accs = []\n",
    "\n",
    "timesplit_knn_accs = []\n",
    "timesplit_rf_accs = []\n",
    "\n",
    "timesplit_model_knn = KNeighborsClassifier(n_neighbors=2066)\n",
    "timesplit_model_knn.fit(timesplit_X_train, timesplit_y_train.values.ravel())\n",
    "\n",
    "timesplit_model_rf = RandomForestClassifier()\n",
    "timesplit_model_rf.fit(timesplit_X_train, timesplit_y_train.values.ravel())\n",
    "\n",
    "for batch in range(len(timesplit_X_test_batches)):\n",
    "    knn_batch_score = timesplit_model_knn.score(timesplit_X_test_batches[batch], timesplit_y_test_batches[batch])\n",
    "#     print('\\n', knn_batch_score)\n",
    "    timesplit_knn_accs.append(knn_batch_score)\n",
    "    rf_batch_score = timesplit_model_rf.score(timesplit_X_test_batches[batch], timesplit_y_test_batches[batch])\n",
    "#     print('\\n', rf_batch_score)\n",
    "    timesplit_rf_accs.append(rf_batch_score)\n",
    "    if batch < 4:\n",
    "        expected_accs.append(knn_batch_score)\n",
    "    \n",
    "timesplit_x_range = np.arange(1, len(timesplit_X_test_batches) + 1)\n",
    "\n",
    "plt.bar(timesplit_x_range, timesplit_knn_accs)\n",
    "plt.ylabel(\"KNN score\")\n",
    "plt.show()\n",
    "\n",
    "plt.bar(timesplit_x_range, timesplit_rf_accs)\n",
    "plt.ylabel(\"RF score\")\n",
    "plt.show()"
   ]
  },
  {
   "cell_type": "code",
   "execution_count": 5,
   "id": "e3a6e3ad",
   "metadata": {},
   "outputs": [
    {
     "data": {
      "image/png": "[encoded data removed]",
      "text/plain": [
       "<Figure size 640x480 with 1 Axes>"
      ]
     },
     "metadata": {},
     "output_type": "display_data"
    },
    {
     "data": {
      "image/png": "[encoded data removed]",
      "text/plain": [
       "<Figure size 640x480 with 1 Axes>"
      ]
     },
     "metadata": {},
     "output_type": "display_data"
    }
   ],
   "source": [
    "plt.bar(timesplit_x_range, timesplit_knn_accs)\n",
    "# plt.axhline(y=timesplit_model_knn_ex, color='r', linestyle='-')\n",
    "plt.ylabel(\"KNN score\")\n",
    "plt.show()\n",
    "\n",
    "plt.bar(timesplit_x_range, timesplit_rf_accs)\n",
    "# plt.axhline(y=timesplit_model_rf_ex, color='r', linestyle='-')\n",
    "plt.ylabel(\"RF score\")\n",
    "plt.show()"
   ]
  },
  {
   "cell_type": "code",
   "execution_count": 6,
   "id": "5a465cad",
   "metadata": {},
   "outputs": [
    {
     "name": "stdout",
     "output_type": "stream",
     "text": [
      "22\n",
      "(17000, 4)\n",
      "(17000, 1)\n",
      "(2589, 4)\n",
      "(2589, 1)\n"
     ]
    }
   ],
   "source": [
    "X_test_batches = []\n",
    "y_test_batches = []\n",
    "\n",
    "i = 0\n",
    "while i < len(X_test):\n",
    "    new_i = i + 17000\n",
    "    if new_i > len(X_test):\n",
    "        new_i = len(X_test)\n",
    "    X_test_batches.append(X_test[i: new_i])\n",
    "    y_test_batches.append(y_test[i: new_i])\n",
    "    i = new_i\n",
    "\n",
    "print(len(X_test_batches))\n",
    "print(X_test_batches[0].shape)\n",
    "print(y_test_batches[0].shape)\n",
    "print(X_test_batches[-1].shape)\n",
    "print(y_test_batches[-1].shape)"
   ]
  },
  {
   "cell_type": "code",
   "execution_count": 10,
   "id": "3e22f191",
   "metadata": {},
   "outputs": [
    {
     "name": "stdout",
     "output_type": "stream",
     "text": [
      "\n",
      " 0.6768823529411765\n",
      "\n",
      " 0.5410588235294118\n",
      "drift in batch 2\n",
      "\n",
      " 0.5933529411764706\n",
      "drift in batch 3\n",
      "\n",
      " 0.6549411764705882\n",
      "drift in batch 4\n",
      "\n",
      " 0.6359411764705882\n",
      "drift in batch 5\n",
      "\n",
      " 0.5557058823529412\n",
      "drift in batch 6\n",
      "\n",
      " 0.5799411764705882\n",
      "drift in batch 7\n",
      "\n",
      " 0.5723529411764706\n",
      "drift in batch 8\n",
      "\n",
      " 0.6188235294117647\n",
      "drift in batch 9\n",
      "\n",
      " 0.5821176470588235\n",
      "drift in batch 10\n",
      "\n",
      " 0.5560588235294117\n",
      "drift in batch 11\n",
      "\n",
      " 0.5469411764705883\n",
      "drift in batch 12\n",
      "\n",
      " 0.6228235294117647\n",
      "drift in batch 13\n",
      "\n",
      " 0.6546470588235294\n",
      "drift in batch 14\n",
      "\n",
      " 0.6307058823529412\n",
      "drift in batch 15\n",
      "\n",
      " 0.5641176470588235\n",
      "drift in batch 16\n",
      "\n",
      " 0.6132352941176471\n",
      "drift in batch 17\n",
      "\n",
      " 0.5584705882352942\n",
      "drift in batch 18\n",
      "\n",
      " 0.5244117647058824\n",
      "drift in batch 19\n",
      "\n",
      " 0.5387647058823529\n",
      "drift in batch 20\n",
      "\n",
      " 0.575\n",
      "drift in batch 21\n",
      "\n",
      " 0.5731942835071456\n",
      "drift in batch 22\n"
     ]
    }
   ],
   "source": [
    "accs = []\n",
    "threshold = np.mean(expected_accs) - np.std(expected_accs)\n",
    "\n",
    "model_knn = KNeighborsClassifier(n_neighbors=2066)\n",
    "model_knn.fit(X_train, y_train.values.ravel())\n",
    "for batch in range(len(X_test_batches)):\n",
    "    batch_score = model_knn.score(X_test_batches[batch], y_test_batches[batch])\n",
    "    print('\\n', batch_score)\n",
    "    if batch_score < threshold:\n",
    "        print(\"drift in batch\", batch + 1)\n",
    "    accs.append(batch_score)"
   ]
  },
  {
   "cell_type": "code",
   "execution_count": 11,
   "id": "b2fa3cb9",
   "metadata": {},
   "outputs": [
    {
     "name": "stdout",
     "output_type": "stream",
     "text": [
      "0.6643127678360978\n"
     ]
    },
    {
     "data": {
      "image/png": "[encoded data removed]",
      "text/plain": [
       "<Figure size 640x480 with 1 Axes>"
      ]
     },
     "metadata": {},
     "output_type": "display_data"
    }
   ],
   "source": [
    "print(threshold)\n",
    "# threshold = np.mean(expected_accs)\n",
    "# print(threshold)\n",
    "plt.bar(range(0, len(X_test_batches)), accs)\n",
    "plt.axhline(y=threshold, color='r', linestyle='-')\n",
    "plt.show()"
   ]
  },
  {
   "cell_type": "code",
   "execution_count": null,
   "id": "277cb718",
   "metadata": {},
   "outputs": [],
   "source": []
  }
 ],
 "metadata": {
  "kernelspec": {
   "display_name": "Python 3 (ipykernel)",
   "language": "python",
   "name": "python3"
  },
  "language_info": {
   "codemirror_mode": {
    "name": "ipython",
    "version": 3
   },
   "file_extension": ".py",
   "mimetype": "text/x-python",
   "name": "python",
   "nbconvert_exporter": "python",
   "pygments_lexer": "ipython3",
   "version": "3.9.13"
  }
 },
 "nbformat": 4,
 "nbformat_minor": 5
}
