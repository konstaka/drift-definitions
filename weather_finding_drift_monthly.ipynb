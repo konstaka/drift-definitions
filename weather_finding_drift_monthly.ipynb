{
 "cells": [
  {
   "cell_type": "markdown",
   "id": "92351e7f",
   "metadata": {},
   "source": [
    "# Weather dataset drift localisation with different classifiers - montly predictions"
   ]
  },
  {
   "cell_type": "code",
   "execution_count": 1,
   "id": "cc368eab",
   "metadata": {},
   "outputs": [],
   "source": [
    "import numpy as np\n",
    "import pandas as pd\n",
    "from scipy.io import arff\n",
    "from sklearn.model_selection import train_test_split, cross_val_score\n",
    "from sklearn.preprocessing import MinMaxScaler\n",
    "\n",
    "import matplotlib.pyplot as plt\n",
    "import math\n",
    "\n",
    "from sklearn.naive_bayes import GaussianNB\n",
    "from sklearn.dummy import DummyClassifier\n",
    "from sklearn.tree import DecisionTreeClassifier\n",
    "from sklearn.svm import SVC\n",
    "from sklearn.neighbors import KNeighborsClassifier\n",
    "from sklearn.linear_model import LogisticRegression\n",
    "\n",
    "from sklearn.model_selection import KFold\n",
    "from sklearn.model_selection import cross_validate\n",
    "from sklearn.metrics import f1_score, accuracy_score, make_scorer\n",
    "from sklearn.model_selection import GridSearchCV\n",
    "\n",
    "from warnings import simplefilter\n",
    "simplefilter(action='ignore', category=FutureWarning)\n",
    "\n",
    "\n",
    "from skopt import BayesSearchCV\n",
    "from skopt.space import Real, Categorical, Integer"
   ]
  },
  {
   "cell_type": "markdown",
   "id": "94f1c71e",
   "metadata": {},
   "source": [
    "## Accept and preprocess the weather dataset"
   ]
  },
  {
   "cell_type": "code",
   "execution_count": 2,
   "id": "f1efebe7",
   "metadata": {
    "scrolled": false
   },
   "outputs": [
    {
     "name": "stdout",
     "output_type": "stream",
     "text": [
      "   Unnamed: 0  TEMP  DEWP     SLP  VISIB  WDSP  MXSPD   MAX   MIN  Label_Rain\n",
      "0           0  24.7  21.3  1013.8    1.8   8.9   12.0  30.9  19.9           1\n",
      "1           1  26.6  20.1  1015.7    5.5  11.9   18.1  30.0  19.0           1\n",
      "2           2  24.0  16.5  1018.6    9.3   8.0   14.0  28.9  19.0           0\n",
      "3           3  24.9  17.2  1014.2   10.6   6.7   22.0  39.9  17.1           0\n",
      "4           4  21.9  12.3  1017.5    9.8  10.5   28.9  34.0  15.1           0\n",
      "   TEMP  DEWP     SLP  VISIB  WDSP  MXSPD   MAX   MIN\n",
      "0  24.7  21.3  1013.8    1.8   8.9   12.0  30.9  19.9\n",
      "1  26.6  20.1  1015.7    5.5  11.9   18.1  30.0  19.0\n",
      "2  24.0  16.5  1018.6    9.3   8.0   14.0  28.9  19.0\n",
      "3  24.9  17.2  1014.2   10.6   6.7   22.0  39.9  17.1\n",
      "4  21.9  12.3  1017.5    9.8  10.5   28.9  34.0  15.1\n",
      "0    1\n",
      "1    1\n",
      "2    0\n",
      "3    0\n",
      "4    0\n",
      "Name: Label_Rain, dtype: int64\n",
      "\n",
      "reference data\n",
      "(6053, 8)\n",
      "[[0.32335329 0.45853659 0.50909091 ... 0.21443737 0.00335913 0.36567926]\n",
      " [0.34231537 0.44682927 0.53787879 ... 0.34394904 0.00326915 0.35648621]\n",
      " [0.31636727 0.41170732 0.58181818 ... 0.25690021 0.00315918 0.35648621]\n",
      " ...\n",
      " [0.83532934 0.9395122  0.56363636 ... 0.16985138 0.00897767 0.89785495]\n",
      " [0.81936128 0.88       0.58787879 ... 0.12951168 0.0084678  0.84576098]\n",
      " [0.81437126 0.88780488 0.56363636 ... 0.10828025 0.00836782 0.84576098]]\n",
      "\n",
      "reference labels\n",
      "(6053,)\n",
      "\n",
      "testing data\n",
      "(12106, 8)\n",
      "[[0.80538922 0.84       0.57272727 ... 0.16985138 0.00855777 0.7854954 ]\n",
      " [0.82035928 0.85853659 0.56060606 ... 0.14861996 0.00936756 0.7854954 ]\n",
      " [0.88922156 0.87804878 0.49242424 ... 0.1910828  0.00965749 0.86823289]\n",
      " ...\n",
      " [0.21556886 0.28195122 0.44545455 ... 0.33970276 0.00278927 0.21552605]\n",
      " [0.1497006  0.17756098 0.51363636 ... 0.48832272 0.00258933 0.13483146]\n",
      " [0.05588822 0.0995122  0.68484848 ... 0.21019108 0.00137964 0.05209397]]\n",
      "\n",
      "testing labels\n",
      "(12106,)\n"
     ]
    }
   ],
   "source": [
    "df = pd.read_csv(\"real_world_data/weather_dataset.csv\")\n",
    "\n",
    "print(df.head())\n",
    "\n",
    "X = df.drop(columns=['Unnamed: 0', 'Label_Rain'])\n",
    "y = df[\"Label_Rain\"]\n",
    "\n",
    "print(X.head())\n",
    "print(y.head())\n",
    "\n",
    "X_ref = X[:6053]\n",
    "X_test = X[6053:]\n",
    "y_ref = y[:6053]\n",
    "y_test = y[6053:]\n",
    "\n",
    "# X_ref, X_test, y_ref, y_test = train_test_split(X, y, train_size=0.30, shuffle=False)\n",
    "\n",
    "X_ref = X_ref.to_numpy()\n",
    "X_test = X_test.to_numpy()\n",
    "y_ref = y_ref.to_numpy()\n",
    "y_test = y_test.to_numpy()\n",
    "\n",
    "# scale the data - consistency measure: it will also be scaled for drift detection later\n",
    "scaler = MinMaxScaler()\n",
    "scaler.fit(X_ref)\n",
    "X_ref = scaler.transform(X_ref)\n",
    "X_test = scaler.transform(X_test)\n",
    "\n",
    "print('\\nreference data')\n",
    "print(X_ref.shape)\n",
    "print(X_ref)\n",
    "print('\\nreference labels')\n",
    "print(y_ref.shape)\n",
    "print('\\ntesting data')\n",
    "print(X_test.shape)\n",
    "print(X_test)\n",
    "print('\\ntesting labels')\n",
    "print(y_test.shape)"
   ]
  },
  {
   "cell_type": "markdown",
   "id": "7e67189f",
   "metadata": {},
   "source": [
    "## Define helper functions"
   ]
  },
  {
   "cell_type": "code",
   "execution_count": 3,
   "id": "50e6a921",
   "metadata": {},
   "outputs": [],
   "source": [
    "import random\n",
    "\n",
    "\n",
    "def take_out_random_batch(X, y, batch_size, random_state):\n",
    "    \"\"\"Take a random batch of data out of the reference data\"\"\"\n",
    "    random.seed(a=random_state)\n",
    "    start = random.randint(0, X.shape[0] - batch_size)\n",
    "    indices = list(range(start, start + batch_size))\n",
    "    \n",
    "    X_extracted_batch = X[indices]\n",
    "    X_rest = np.delete(X, indices, axis=0)\n",
    "    y_extracted_batch = y[indices]\n",
    "    y_rest = np.delete(y, indices, axis=0)\n",
    "    \n",
    "#     print('shape of points in the extracted batch')\n",
    "#     print(X_extracted_batch.shape)\n",
    "#     print('shape of points in the rest')\n",
    "#     print(X_rest.shape)\n",
    "    \n",
    "    return X_extracted_batch, X_rest, y_extracted_batch, y_rest\n",
    "\n",
    "\n",
    "def find_model_expected_accuracy(X, y, batch_size, model, min_runs=10, std_err_threshold=0.05):\n",
    "    print('model', model)\n",
    "    accuracies = []\n",
    "    accuracy_std_err = 100\n",
    "    current_random_state = 0\n",
    "    i = 0\n",
    "    while i < min_runs or accuracy_std_err > std_err_threshold:\n",
    "        X_extracted_batch, X_rest, y_extracted_batch, y_rest = take_out_random_batch(\n",
    "            X_ref, y_ref, batch_size, random_state=current_random_state)\n",
    "        y_pred = model.fit(X_rest, y_rest).predict(X_extracted_batch)\n",
    "        accuracies.append(accuracy_score(y_extracted_batch, y_pred))\n",
    "        if len(accuracies) > 1:\n",
    "            accuracy_std_err = np.std(accuracies) / np.sqrt(len(accuracies))\n",
    "        current_random_state += 1\n",
    "        i += 1\n",
    "    \n",
    "    return np.mean(accuracies), np.std(accuracies)"
   ]
  },
  {
   "cell_type": "markdown",
   "id": "b4b947fb",
   "metadata": {},
   "source": [
    "## Define parameter values"
   ]
  },
  {
   "cell_type": "code",
   "execution_count": 4,
   "id": "0a024375",
   "metadata": {},
   "outputs": [],
   "source": [
    "random_state = 42\n",
    "batch_size = 30  # monthly predictions"
   ]
  },
  {
   "cell_type": "markdown",
   "id": "e8c5798f",
   "metadata": {},
   "source": [
    "## Find the model with the highest accuracy"
   ]
  },
  {
   "cell_type": "code",
   "execution_count": 7,
   "id": "d989b0d7",
   "metadata": {},
   "outputs": [],
   "source": [
    "model_names = [\"GaussianNB\", \"DecisionTreeClassifier\", \"KNeighborsClassifier\", \"SVM\", \"LogisticRegression\"]\n",
    "model_final_accuracies = {\n",
    "    \"GaussianNB\": 0.0,\n",
    "    \"DecisionTreeClassifier\": 0.0,\n",
    "    \"KNeighborsClassifier\": 0.0,\n",
    "    \"SVM\": 0.0,\n",
    "    \"LogisticRegression\": 0.0\n",
    "}"
   ]
  },
  {
   "cell_type": "markdown",
   "id": "79fcdc8f",
   "metadata": {},
   "source": [
    "### Try GaussianNB"
   ]
  },
  {
   "cell_type": "code",
   "execution_count": 7,
   "id": "201a182e",
   "metadata": {},
   "outputs": [
    {
     "name": "stdout",
     "output_type": "stream",
     "text": [
      "model GaussianNB()\n"
     ]
    }
   ],
   "source": [
    "gnb = GaussianNB()\n",
    "\n",
    "model_final_accuracies[\"GaussianNB\"], _ = find_model_expected_accuracy(X_ref, y_ref, batch_size, model=gnb)"
   ]
  },
  {
   "cell_type": "markdown",
   "id": "4ccb543f",
   "metadata": {},
   "source": [
    "### Hyperparameter tuning imports"
   ]
  },
  {
   "cell_type": "code",
   "execution_count": 8,
   "id": "95baaeb3",
   "metadata": {},
   "outputs": [],
   "source": [
    "import skopt\n",
    "from skopt.utils import use_named_args\n",
    "from skopt import gp_minimize\n",
    "from skopt.plots import plot_convergence"
   ]
  },
  {
   "cell_type": "markdown",
   "id": "f45865d8",
   "metadata": {},
   "source": [
    "### Try decision trees"
   ]
  },
  {
   "cell_type": "code",
   "execution_count": 9,
   "id": "6c8b77fa",
   "metadata": {},
   "outputs": [
    {
     "name": "stdout",
     "output_type": "stream",
     "text": [
      "model DecisionTreeClassifier(max_depth=78, random_state=42)\n",
      "model DecisionTreeClassifier(max_depth=11, random_state=42)\n",
      "model DecisionTreeClassifier(criterion='entropy', max_depth=15, random_state=42)\n",
      "model DecisionTreeClassifier(max_depth=72, random_state=42)\n",
      "model DecisionTreeClassifier(max_depth=99, random_state=42)\n",
      "model DecisionTreeClassifier(max_depth=2, random_state=42, splitter='random')\n",
      "model DecisionTreeClassifier(criterion='entropy', max_depth=41, random_state=42,\n",
      "                       splitter='random')\n",
      "model DecisionTreeClassifier(criterion='entropy', max_depth=24, random_state=42,\n",
      "                       splitter='random')\n",
      "model DecisionTreeClassifier(criterion='entropy', max_depth=39, random_state=42,\n",
      "                       splitter='random')\n",
      "model DecisionTreeClassifier(max_depth=86, random_state=42)\n",
      "model DecisionTreeClassifier(criterion='entropy', max_depth=49, random_state=42)\n",
      "model DecisionTreeClassifier(criterion='entropy', max_depth=100, random_state=42)\n",
      "model DecisionTreeClassifier(max_depth=100, random_state=42, splitter='random')\n",
      "model DecisionTreeClassifier(criterion='entropy', max_depth=77, random_state=42)\n",
      "model DecisionTreeClassifier(criterion='entropy', max_depth=1, random_state=42)\n",
      "model DecisionTreeClassifier(criterion='entropy', max_depth=24, random_state=42)\n",
      "model DecisionTreeClassifier(criterion='entropy', max_depth=1, random_state=42,\n",
      "                       splitter='random')\n",
      "model DecisionTreeClassifier(max_depth=29, random_state=42)\n",
      "model DecisionTreeClassifier(max_depth=71, random_state=42, splitter='random')\n",
      "model DecisionTreeClassifier(criterion='entropy', max_depth=63, random_state=42)\n",
      "model DecisionTreeClassifier(criterion='entropy', max_depth=100, random_state=42,\n",
      "                       splitter='random')\n",
      "model DecisionTreeClassifier(criterion='entropy', max_depth=35, random_state=42)\n",
      "model DecisionTreeClassifier(max_depth=1, random_state=42)\n",
      "model DecisionTreeClassifier(max_depth=46, random_state=42, splitter='random')\n",
      "model DecisionTreeClassifier(criterion='entropy', max_depth=89, random_state=42)\n",
      "model DecisionTreeClassifier(criterion='entropy', max_depth=71, random_state=42,\n",
      "                       splitter='random')\n",
      "model DecisionTreeClassifier(max_depth=86, random_state=42, splitter='random')\n",
      "model DecisionTreeClassifier(max_depth=30, random_state=42, splitter='random')\n",
      "model DecisionTreeClassifier(criterion='entropy', max_depth=20, random_state=42)\n",
      "model DecisionTreeClassifier(max_depth=50, random_state=42)\n",
      "model DecisionTreeClassifier(max_depth=59, random_state=42, splitter='random')\n",
      "model DecisionTreeClassifier(max_depth=19, random_state=42, splitter='random')\n",
      "model DecisionTreeClassifier(criterion='entropy', max_depth=56, random_state=42)\n",
      "model DecisionTreeClassifier(criterion='entropy', max_depth=22, random_state=42)\n"
     ]
    },
    {
     "name": "stderr",
     "output_type": "stream",
     "text": [
      "C:\\Users\\jpohl\\anaconda3\\lib\\site-packages\\skopt\\optimizer\\optimizer.py:449: UserWarning: The objective has been evaluated at this point before.\n",
      "  warnings.warn(\"The objective has been evaluated \"\n"
     ]
    },
    {
     "name": "stdout",
     "output_type": "stream",
     "text": [
      "model DecisionTreeClassifier(criterion='entropy', max_depth=24, random_state=42)\n",
      "model DecisionTreeClassifier(criterion='entropy', max_depth=23, random_state=42)\n",
      "model DecisionTreeClassifier(criterion='entropy', max_depth=28, random_state=42)\n"
     ]
    },
    {
     "name": "stderr",
     "output_type": "stream",
     "text": [
      "C:\\Users\\jpohl\\anaconda3\\lib\\site-packages\\skopt\\optimizer\\optimizer.py:449: UserWarning: The objective has been evaluated at this point before.\n",
      "  warnings.warn(\"The objective has been evaluated \"\n"
     ]
    },
    {
     "name": "stdout",
     "output_type": "stream",
     "text": [
      "model DecisionTreeClassifier(criterion='entropy', max_depth=22, random_state=42)\n"
     ]
    },
    {
     "name": "stderr",
     "output_type": "stream",
     "text": [
      "C:\\Users\\jpohl\\anaconda3\\lib\\site-packages\\skopt\\optimizer\\optimizer.py:449: UserWarning: The objective has been evaluated at this point before.\n",
      "  warnings.warn(\"The objective has been evaluated \"\n"
     ]
    },
    {
     "name": "stdout",
     "output_type": "stream",
     "text": [
      "model DecisionTreeClassifier(criterion='entropy', max_depth=22, random_state=42)\n"
     ]
    },
    {
     "name": "stderr",
     "output_type": "stream",
     "text": [
      "C:\\Users\\jpohl\\anaconda3\\lib\\site-packages\\skopt\\optimizer\\optimizer.py:449: UserWarning: The objective has been evaluated at this point before.\n",
      "  warnings.warn(\"The objective has been evaluated \"\n"
     ]
    },
    {
     "name": "stdout",
     "output_type": "stream",
     "text": [
      "model DecisionTreeClassifier(criterion='entropy', max_depth=22, random_state=42)\n",
      "model DecisionTreeClassifier(criterion='entropy', max_depth=21, random_state=42)\n"
     ]
    },
    {
     "name": "stderr",
     "output_type": "stream",
     "text": [
      "C:\\Users\\jpohl\\anaconda3\\lib\\site-packages\\skopt\\optimizer\\optimizer.py:449: UserWarning: The objective has been evaluated at this point before.\n",
      "  warnings.warn(\"The objective has been evaluated \"\n"
     ]
    },
    {
     "name": "stdout",
     "output_type": "stream",
     "text": [
      "model DecisionTreeClassifier(criterion='entropy', max_depth=100, random_state=42)\n",
      "model DecisionTreeClassifier(criterion='entropy', max_depth=71, random_state=42)\n"
     ]
    },
    {
     "name": "stderr",
     "output_type": "stream",
     "text": [
      "C:\\Users\\jpohl\\anaconda3\\lib\\site-packages\\skopt\\optimizer\\optimizer.py:449: UserWarning: The objective has been evaluated at this point before.\n",
      "  warnings.warn(\"The objective has been evaluated \"\n"
     ]
    },
    {
     "name": "stdout",
     "output_type": "stream",
     "text": [
      "model DecisionTreeClassifier(criterion='entropy', max_depth=21, random_state=42)\n",
      "model DecisionTreeClassifier(criterion='entropy', max_depth=85, random_state=42)\n",
      "model DecisionTreeClassifier(criterion='entropy', max_depth=25, random_state=42)\n",
      "model DecisionTreeClassifier(criterion='entropy', max_depth=42, random_state=42)\n"
     ]
    },
    {
     "name": "stderr",
     "output_type": "stream",
     "text": [
      "C:\\Users\\jpohl\\anaconda3\\lib\\site-packages\\skopt\\optimizer\\optimizer.py:449: UserWarning: The objective has been evaluated at this point before.\n",
      "  warnings.warn(\"The objective has been evaluated \"\n"
     ]
    },
    {
     "name": "stdout",
     "output_type": "stream",
     "text": [
      "model DecisionTreeClassifier(criterion='entropy', max_depth=15, random_state=42)\n"
     ]
    },
    {
     "name": "stderr",
     "output_type": "stream",
     "text": [
      "C:\\Users\\jpohl\\anaconda3\\lib\\site-packages\\skopt\\optimizer\\optimizer.py:449: UserWarning: The objective has been evaluated at this point before.\n",
      "  warnings.warn(\"The objective has been evaluated \"\n"
     ]
    },
    {
     "name": "stdout",
     "output_type": "stream",
     "text": [
      "model DecisionTreeClassifier(criterion='entropy', max_depth=100, random_state=42)\n",
      "model DecisionTreeClassifier(criterion='entropy', max_depth=65, random_state=42)\n"
     ]
    },
    {
     "name": "stderr",
     "output_type": "stream",
     "text": [
      "C:\\Users\\jpohl\\anaconda3\\lib\\site-packages\\skopt\\optimizer\\optimizer.py:449: UserWarning: The objective has been evaluated at this point before.\n",
      "  warnings.warn(\"The objective has been evaluated \"\n"
     ]
    },
    {
     "name": "stdout",
     "output_type": "stream",
     "text": [
      "model DecisionTreeClassifier(criterion='entropy', max_depth=21, random_state=42)\n",
      "model DecisionTreeClassifier(criterion='entropy', max_depth=91, random_state=42)\n"
     ]
    },
    {
     "name": "stderr",
     "output_type": "stream",
     "text": [
      "C:\\Users\\jpohl\\anaconda3\\lib\\site-packages\\skopt\\optimizer\\optimizer.py:449: UserWarning: The objective has been evaluated at this point before.\n",
      "  warnings.warn(\"The objective has been evaluated \"\n"
     ]
    },
    {
     "name": "stdout",
     "output_type": "stream",
     "text": [
      "model DecisionTreeClassifier(criterion='entropy', max_depth=21, random_state=42)\n",
      "model DecisionTreeClassifier(criterion='entropy', max_depth=52, random_state=42)\n",
      "model DecisionTreeClassifier(max_depth=38, random_state=42, splitter='random')\n"
     ]
    },
    {
     "name": "stderr",
     "output_type": "stream",
     "text": [
      "C:\\Users\\jpohl\\anaconda3\\lib\\site-packages\\skopt\\optimizer\\optimizer.py:449: UserWarning: The objective has been evaluated at this point before.\n",
      "  warnings.warn(\"The objective has been evaluated \"\n"
     ]
    },
    {
     "name": "stdout",
     "output_type": "stream",
     "text": [
      "model DecisionTreeClassifier(criterion='entropy', max_depth=20, random_state=42)\n"
     ]
    },
    {
     "name": "stderr",
     "output_type": "stream",
     "text": [
      "C:\\Users\\jpohl\\anaconda3\\lib\\site-packages\\skopt\\optimizer\\optimizer.py:449: UserWarning: The objective has been evaluated at this point before.\n",
      "  warnings.warn(\"The objective has been evaluated \"\n"
     ]
    },
    {
     "name": "stdout",
     "output_type": "stream",
     "text": [
      "model DecisionTreeClassifier(criterion='entropy', max_depth=21, random_state=42)\n"
     ]
    },
    {
     "name": "stderr",
     "output_type": "stream",
     "text": [
      "C:\\Users\\jpohl\\anaconda3\\lib\\site-packages\\skopt\\optimizer\\optimizer.py:449: UserWarning: The objective has been evaluated at this point before.\n",
      "  warnings.warn(\"The objective has been evaluated \"\n"
     ]
    },
    {
     "name": "stdout",
     "output_type": "stream",
     "text": [
      "model DecisionTreeClassifier(criterion='entropy', max_depth=21, random_state=42)\n"
     ]
    },
    {
     "name": "stderr",
     "output_type": "stream",
     "text": [
      "C:\\Users\\jpohl\\anaconda3\\lib\\site-packages\\skopt\\optimizer\\optimizer.py:449: UserWarning: The objective has been evaluated at this point before.\n",
      "  warnings.warn(\"The objective has been evaluated \"\n"
     ]
    },
    {
     "name": "stdout",
     "output_type": "stream",
     "text": [
      "model DecisionTreeClassifier(criterion='entropy', max_depth=21, random_state=42)\n",
      "model DecisionTreeClassifier(criterion='entropy', max_depth=86, random_state=42,\n",
      "                       splitter='random')\n"
     ]
    },
    {
     "name": "stderr",
     "output_type": "stream",
     "text": [
      "C:\\Users\\jpohl\\anaconda3\\lib\\site-packages\\skopt\\optimizer\\optimizer.py:449: UserWarning: The objective has been evaluated at this point before.\n",
      "  warnings.warn(\"The objective has been evaluated \"\n"
     ]
    },
    {
     "name": "stdout",
     "output_type": "stream",
     "text": [
      "model DecisionTreeClassifier(criterion='entropy', max_depth=21, random_state=42)\n"
     ]
    },
    {
     "name": "stderr",
     "output_type": "stream",
     "text": [
      "C:\\Users\\jpohl\\anaconda3\\lib\\site-packages\\skopt\\optimizer\\optimizer.py:449: UserWarning: The objective has been evaluated at this point before.\n",
      "  warnings.warn(\"The objective has been evaluated \"\n"
     ]
    },
    {
     "name": "stdout",
     "output_type": "stream",
     "text": [
      "model DecisionTreeClassifier(criterion='entropy', max_depth=21, random_state=42)\n"
     ]
    },
    {
     "name": "stderr",
     "output_type": "stream",
     "text": [
      "C:\\Users\\jpohl\\anaconda3\\lib\\site-packages\\skopt\\optimizer\\optimizer.py:449: UserWarning: The objective has been evaluated at this point before.\n",
      "  warnings.warn(\"The objective has been evaluated \"\n"
     ]
    },
    {
     "name": "stdout",
     "output_type": "stream",
     "text": [
      "model DecisionTreeClassifier(criterion='entropy', max_depth=21, random_state=42)\n",
      "model DecisionTreeClassifier(criterion='entropy', max_depth=78, random_state=42)\n",
      "model DecisionTreeClassifier(criterion='entropy', max_depth=36, random_state=42)\n"
     ]
    },
    {
     "name": "stderr",
     "output_type": "stream",
     "text": [
      "C:\\Users\\jpohl\\anaconda3\\lib\\site-packages\\skopt\\optimizer\\optimizer.py:449: UserWarning: The objective has been evaluated at this point before.\n",
      "  warnings.warn(\"The objective has been evaluated \"\n"
     ]
    },
    {
     "name": "stdout",
     "output_type": "stream",
     "text": [
      "model DecisionTreeClassifier(criterion='entropy', max_depth=21, random_state=42)\n",
      "model DecisionTreeClassifier(max_depth=16, random_state=42)\n"
     ]
    },
    {
     "name": "stderr",
     "output_type": "stream",
     "text": [
      "C:\\Users\\jpohl\\anaconda3\\lib\\site-packages\\skopt\\optimizer\\optimizer.py:449: UserWarning: The objective has been evaluated at this point before.\n",
      "  warnings.warn(\"The objective has been evaluated \"\n"
     ]
    },
    {
     "name": "stdout",
     "output_type": "stream",
     "text": [
      "model DecisionTreeClassifier(criterion='entropy', max_depth=21, random_state=42)\n"
     ]
    },
    {
     "name": "stderr",
     "output_type": "stream",
     "text": [
      "C:\\Users\\jpohl\\anaconda3\\lib\\site-packages\\skopt\\optimizer\\optimizer.py:449: UserWarning: The objective has been evaluated at this point before.\n",
      "  warnings.warn(\"The objective has been evaluated \"\n"
     ]
    },
    {
     "name": "stdout",
     "output_type": "stream",
     "text": [
      "model DecisionTreeClassifier(criterion='entropy', max_depth=21, random_state=42)\n"
     ]
    },
    {
     "name": "stderr",
     "output_type": "stream",
     "text": [
      "C:\\Users\\jpohl\\anaconda3\\lib\\site-packages\\skopt\\optimizer\\optimizer.py:449: UserWarning: The objective has been evaluated at this point before.\n",
      "  warnings.warn(\"The objective has been evaluated \"\n"
     ]
    },
    {
     "name": "stdout",
     "output_type": "stream",
     "text": [
      "model DecisionTreeClassifier(max_depth=100, random_state=42, splitter='random')\n"
     ]
    },
    {
     "name": "stderr",
     "output_type": "stream",
     "text": [
      "C:\\Users\\jpohl\\anaconda3\\lib\\site-packages\\skopt\\optimizer\\optimizer.py:449: UserWarning: The objective has been evaluated at this point before.\n",
      "  warnings.warn(\"The objective has been evaluated \"\n"
     ]
    },
    {
     "name": "stdout",
     "output_type": "stream",
     "text": [
      "model DecisionTreeClassifier(criterion='entropy', max_depth=21, random_state=42)\n"
     ]
    },
    {
     "name": "stderr",
     "output_type": "stream",
     "text": [
      "C:\\Users\\jpohl\\anaconda3\\lib\\site-packages\\skopt\\optimizer\\optimizer.py:449: UserWarning: The objective has been evaluated at this point before.\n",
      "  warnings.warn(\"The objective has been evaluated \"\n"
     ]
    },
    {
     "name": "stdout",
     "output_type": "stream",
     "text": [
      "model DecisionTreeClassifier(criterion='entropy', max_depth=21, random_state=42)\n",
      "model DecisionTreeClassifier(criterion='entropy', max_depth=57, random_state=42,\n",
      "                       splitter='random')\n"
     ]
    },
    {
     "name": "stderr",
     "output_type": "stream",
     "text": [
      "C:\\Users\\jpohl\\anaconda3\\lib\\site-packages\\skopt\\optimizer\\optimizer.py:449: UserWarning: The objective has been evaluated at this point before.\n",
      "  warnings.warn(\"The objective has been evaluated \"\n"
     ]
    },
    {
     "name": "stdout",
     "output_type": "stream",
     "text": [
      "model DecisionTreeClassifier(criterion='entropy', max_depth=21, random_state=42)\n"
     ]
    },
    {
     "name": "stderr",
     "output_type": "stream",
     "text": [
      "C:\\Users\\jpohl\\anaconda3\\lib\\site-packages\\skopt\\optimizer\\optimizer.py:449: UserWarning: The objective has been evaluated at this point before.\n",
      "  warnings.warn(\"The objective has been evaluated \"\n"
     ]
    },
    {
     "name": "stdout",
     "output_type": "stream",
     "text": [
      "model DecisionTreeClassifier(criterion='entropy', max_depth=21, random_state=42)\n"
     ]
    },
    {
     "name": "stderr",
     "output_type": "stream",
     "text": [
      "C:\\Users\\jpohl\\anaconda3\\lib\\site-packages\\skopt\\optimizer\\optimizer.py:449: UserWarning: The objective has been evaluated at this point before.\n",
      "  warnings.warn(\"The objective has been evaluated \"\n"
     ]
    },
    {
     "name": "stdout",
     "output_type": "stream",
     "text": [
      "model DecisionTreeClassifier(criterion='entropy', max_depth=21, random_state=42)\n"
     ]
    },
    {
     "name": "stderr",
     "output_type": "stream",
     "text": [
      "C:\\Users\\jpohl\\anaconda3\\lib\\site-packages\\skopt\\optimizer\\optimizer.py:449: UserWarning: The objective has been evaluated at this point before.\n",
      "  warnings.warn(\"The objective has been evaluated \"\n"
     ]
    },
    {
     "name": "stdout",
     "output_type": "stream",
     "text": [
      "model DecisionTreeClassifier(criterion='entropy', max_depth=21, random_state=42)\n",
      "model DecisionTreeClassifier(max_depth=79, random_state=42, splitter='random')\n"
     ]
    },
    {
     "name": "stderr",
     "output_type": "stream",
     "text": [
      "C:\\Users\\jpohl\\anaconda3\\lib\\site-packages\\skopt\\optimizer\\optimizer.py:449: UserWarning: The objective has been evaluated at this point before.\n",
      "  warnings.warn(\"The objective has been evaluated \"\n"
     ]
    },
    {
     "name": "stdout",
     "output_type": "stream",
     "text": [
      "model DecisionTreeClassifier(criterion='entropy', max_depth=21, random_state=42)\n"
     ]
    },
    {
     "name": "stderr",
     "output_type": "stream",
     "text": [
      "C:\\Users\\jpohl\\anaconda3\\lib\\site-packages\\skopt\\optimizer\\optimizer.py:449: UserWarning: The objective has been evaluated at this point before.\n",
      "  warnings.warn(\"The objective has been evaluated \"\n"
     ]
    },
    {
     "name": "stdout",
     "output_type": "stream",
     "text": [
      "model DecisionTreeClassifier(criterion='entropy', max_depth=21, random_state=42)\n"
     ]
    },
    {
     "name": "stderr",
     "output_type": "stream",
     "text": [
      "C:\\Users\\jpohl\\anaconda3\\lib\\site-packages\\skopt\\optimizer\\optimizer.py:449: UserWarning: The objective has been evaluated at this point before.\n",
      "  warnings.warn(\"The objective has been evaluated \"\n"
     ]
    },
    {
     "name": "stdout",
     "output_type": "stream",
     "text": [
      "model DecisionTreeClassifier(criterion='entropy', max_depth=21, random_state=42)\n",
      "model DecisionTreeClassifier(criterion='entropy', max_depth=12, random_state=42)\n",
      "model DecisionTreeClassifier(criterion='entropy', max_depth=19, random_state=42)\n"
     ]
    },
    {
     "name": "stderr",
     "output_type": "stream",
     "text": [
      "C:\\Users\\jpohl\\anaconda3\\lib\\site-packages\\skopt\\optimizer\\optimizer.py:449: UserWarning: The objective has been evaluated at this point before.\n",
      "  warnings.warn(\"The objective has been evaluated \"\n"
     ]
    },
    {
     "name": "stdout",
     "output_type": "stream",
     "text": [
      "model DecisionTreeClassifier(criterion='entropy', max_depth=21, random_state=42)\n"
     ]
    },
    {
     "name": "stderr",
     "output_type": "stream",
     "text": [
      "C:\\Users\\jpohl\\anaconda3\\lib\\site-packages\\skopt\\optimizer\\optimizer.py:449: UserWarning: The objective has been evaluated at this point before.\n",
      "  warnings.warn(\"The objective has been evaluated \"\n"
     ]
    },
    {
     "name": "stdout",
     "output_type": "stream",
     "text": [
      "model DecisionTreeClassifier(criterion='entropy', max_depth=20, random_state=42)\n"
     ]
    },
    {
     "name": "stderr",
     "output_type": "stream",
     "text": [
      "C:\\Users\\jpohl\\anaconda3\\lib\\site-packages\\skopt\\optimizer\\optimizer.py:449: UserWarning: The objective has been evaluated at this point before.\n",
      "  warnings.warn(\"The objective has been evaluated \"\n"
     ]
    },
    {
     "name": "stdout",
     "output_type": "stream",
     "text": [
      "model DecisionTreeClassifier(criterion='entropy', max_depth=21, random_state=42)\n"
     ]
    },
    {
     "name": "stderr",
     "output_type": "stream",
     "text": [
      "C:\\Users\\jpohl\\anaconda3\\lib\\site-packages\\skopt\\optimizer\\optimizer.py:449: UserWarning: The objective has been evaluated at this point before.\n",
      "  warnings.warn(\"The objective has been evaluated \"\n"
     ]
    },
    {
     "name": "stdout",
     "output_type": "stream",
     "text": [
      "model DecisionTreeClassifier(criterion='entropy', max_depth=20, random_state=42)\n"
     ]
    },
    {
     "name": "stderr",
     "output_type": "stream",
     "text": [
      "C:\\Users\\jpohl\\anaconda3\\lib\\site-packages\\skopt\\optimizer\\optimizer.py:449: UserWarning: The objective has been evaluated at this point before.\n",
      "  warnings.warn(\"The objective has been evaluated \"\n"
     ]
    },
    {
     "name": "stdout",
     "output_type": "stream",
     "text": [
      "model DecisionTreeClassifier(criterion='entropy', max_depth=21, random_state=42)\n"
     ]
    },
    {
     "name": "stderr",
     "output_type": "stream",
     "text": [
      "C:\\Users\\jpohl\\anaconda3\\lib\\site-packages\\skopt\\optimizer\\optimizer.py:449: UserWarning: The objective has been evaluated at this point before.\n",
      "  warnings.warn(\"The objective has been evaluated \"\n"
     ]
    },
    {
     "name": "stdout",
     "output_type": "stream",
     "text": [
      "model DecisionTreeClassifier(criterion='entropy', max_depth=20, random_state=42)\n"
     ]
    },
    {
     "name": "stderr",
     "output_type": "stream",
     "text": [
      "C:\\Users\\jpohl\\anaconda3\\lib\\site-packages\\skopt\\optimizer\\optimizer.py:449: UserWarning: The objective has been evaluated at this point before.\n",
      "  warnings.warn(\"The objective has been evaluated \"\n"
     ]
    },
    {
     "name": "stdout",
     "output_type": "stream",
     "text": [
      "model DecisionTreeClassifier(criterion='entropy', max_depth=21, random_state=42)\n"
     ]
    },
    {
     "name": "stderr",
     "output_type": "stream",
     "text": [
      "C:\\Users\\jpohl\\anaconda3\\lib\\site-packages\\skopt\\optimizer\\optimizer.py:449: UserWarning: The objective has been evaluated at this point before.\n",
      "  warnings.warn(\"The objective has been evaluated \"\n"
     ]
    },
    {
     "name": "stdout",
     "output_type": "stream",
     "text": [
      "model DecisionTreeClassifier(criterion='entropy', max_depth=20, random_state=42)\n",
      "model DecisionTreeClassifier(max_depth=22, random_state=42)\n",
      "model DecisionTreeClassifier(criterion='entropy', max_depth=68, random_state=42)\n",
      "model DecisionTreeClassifier(criterion='entropy', max_depth=46, random_state=42)\n",
      "model DecisionTreeClassifier(criterion='entropy', max_depth=93, random_state=42)\n"
     ]
    },
    {
     "name": "stderr",
     "output_type": "stream",
     "text": [
      "C:\\Users\\jpohl\\anaconda3\\lib\\site-packages\\skopt\\optimizer\\optimizer.py:449: UserWarning: The objective has been evaluated at this point before.\n",
      "  warnings.warn(\"The objective has been evaluated \"\n"
     ]
    },
    {
     "name": "stdout",
     "output_type": "stream",
     "text": [
      "model DecisionTreeClassifier(criterion='entropy', max_depth=21, random_state=42)\n",
      "model DecisionTreeClassifier(max_depth=44, random_state=42)\n",
      "model DecisionTreeClassifier(criterion='entropy', max_depth=39, random_state=42)\n",
      "model DecisionTreeClassifier(max_depth=64, random_state=42)\n"
     ]
    },
    {
     "name": "stderr",
     "output_type": "stream",
     "text": [
      "C:\\Users\\jpohl\\anaconda3\\lib\\site-packages\\skopt\\optimizer\\optimizer.py:449: UserWarning: The objective has been evaluated at this point before.\n",
      "  warnings.warn(\"The objective has been evaluated \"\n"
     ]
    },
    {
     "name": "stdout",
     "output_type": "stream",
     "text": [
      "model DecisionTreeClassifier(criterion='entropy', max_depth=21, random_state=42)\n",
      "Best accuracy=0.7500\n",
      "Best parameters: ['entropy', 'best', 22]\n"
     ]
    },
    {
     "data": {
      "image/png": "[encoded data removed]",
      "text/plain": [
       "<Figure size 432x288 with 1 Axes>"
      ]
     },
     "metadata": {
      "needs_background": "light"
     },
     "output_type": "display_data"
    }
   ],
   "source": [
    "model = DecisionTreeClassifier(random_state=random_state) # best accuracy = 0.7500\n",
    "\n",
    "space  = [Categorical(['gini', 'entropy'], name='criterion'), # best = 'entropy'\n",
    "         Categorical(['best', 'random'], name='splitter'), # best = 'best'\n",
    "         Integer(1, 100, name='max_depth')] # best = 22\n",
    "\n",
    "@use_named_args(space)\n",
    "def objective(**params):\n",
    "    model.set_params(**params)\n",
    "    return (1 - (find_model_expected_accuracy(X_ref, y_ref, batch_size, model=model))[0])\n",
    "\n",
    "res_gp = gp_minimize(objective, space, n_calls=100, random_state=random_state)\n",
    "\n",
    "print(\"Best accuracy=%.4f\" % (1 - res_gp.fun))\n",
    "print(\"\"\"Best parameters:\"\"\", res_gp.x)\n",
    "plot_convergence(res_gp)\n",
    "model_final_accuracies[\"DecisionTreeClassifier\"] = (1 - res_gp.fun)"
   ]
  },
  {
   "cell_type": "markdown",
   "id": "954b6947",
   "metadata": {},
   "source": [
    "### Try k nearest neighbors"
   ]
  },
  {
   "cell_type": "code",
   "execution_count": 14,
   "id": "0a56c0cf",
   "metadata": {},
   "outputs": [
    {
     "name": "stdout",
     "output_type": "stream",
     "text": [
      "model KNeighborsClassifier(n_neighbors=160)\n",
      "model KNeighborsClassifier(n_neighbors=38)\n",
      "model KNeighborsClassifier(n_neighbors=156)\n",
      "model KNeighborsClassifier(n_neighbors=120)\n",
      "model KNeighborsClassifier(n_neighbors=90)\n",
      "model KNeighborsClassifier(n_neighbors=21)\n",
      "model KNeighborsClassifier(n_neighbors=92)\n",
      "model KNeighborsClassifier(n_neighbors=67)\n",
      "model KNeighborsClassifier(n_neighbors=29)\n",
      "model KNeighborsClassifier(n_neighbors=131)\n",
      "model KNeighborsClassifier(n_neighbors=200)\n",
      "model KNeighborsClassifier(n_neighbors=172)\n",
      "model KNeighborsClassifier(n_neighbors=147)\n",
      "model KNeighborsClassifier(n_neighbors=112)\n",
      "model KNeighborsClassifier(n_neighbors=153)\n",
      "model KNeighborsClassifier(n_neighbors=1)\n",
      "model KNeighborsClassifier(n_neighbors=79)\n",
      "model KNeighborsClassifier(n_neighbors=186)\n",
      "model KNeighborsClassifier(n_neighbors=55)\n",
      "model KNeighborsClassifier(n_neighbors=82)\n",
      "model KNeighborsClassifier(n_neighbors=163)\n",
      "model KNeighborsClassifier(n_neighbors=77)\n",
      "model KNeighborsClassifier(n_neighbors=144)\n",
      "model KNeighborsClassifier(n_neighbors=137)\n",
      "model KNeighborsClassifier(n_neighbors=148)\n"
     ]
    },
    {
     "name": "stderr",
     "output_type": "stream",
     "text": [
      "C:\\Users\\jpohl\\anaconda3\\lib\\site-packages\\skopt\\optimizer\\optimizer.py:449: UserWarning: The objective has been evaluated at this point before.\n",
      "  warnings.warn(\"The objective has been evaluated \"\n"
     ]
    },
    {
     "name": "stdout",
     "output_type": "stream",
     "text": [
      "model KNeighborsClassifier(n_neighbors=148)\n",
      "model KNeighborsClassifier(n_neighbors=132)\n",
      "model KNeighborsClassifier(n_neighbors=105)\n",
      "model KNeighborsClassifier(n_neighbors=150)\n"
     ]
    },
    {
     "name": "stderr",
     "output_type": "stream",
     "text": [
      "C:\\Users\\jpohl\\anaconda3\\lib\\site-packages\\skopt\\optimizer\\optimizer.py:449: UserWarning: The objective has been evaluated at this point before.\n",
      "  warnings.warn(\"The objective has been evaluated \"\n"
     ]
    },
    {
     "name": "stdout",
     "output_type": "stream",
     "text": [
      "model KNeighborsClassifier(n_neighbors=150)\n",
      "model KNeighborsClassifier(n_neighbors=151)\n"
     ]
    },
    {
     "name": "stderr",
     "output_type": "stream",
     "text": [
      "C:\\Users\\jpohl\\anaconda3\\lib\\site-packages\\skopt\\optimizer\\optimizer.py:449: UserWarning: The objective has been evaluated at this point before.\n",
      "  warnings.warn(\"The objective has been evaluated \"\n"
     ]
    },
    {
     "name": "stdout",
     "output_type": "stream",
     "text": [
      "model KNeighborsClassifier(n_neighbors=200)\n"
     ]
    },
    {
     "name": "stderr",
     "output_type": "stream",
     "text": [
      "C:\\Users\\jpohl\\anaconda3\\lib\\site-packages\\skopt\\optimizer\\optimizer.py:449: UserWarning: The objective has been evaluated at this point before.\n",
      "  warnings.warn(\"The objective has been evaluated \"\n"
     ]
    },
    {
     "name": "stdout",
     "output_type": "stream",
     "text": [
      "model KNeighborsClassifier(n_neighbors=148)\n",
      "model KNeighborsClassifier(n_neighbors=141)\n",
      "model KNeighborsClassifier(n_neighbors=124)\n",
      "model KNeighborsClassifier(n_neighbors=86)\n",
      "model KNeighborsClassifier(n_neighbors=101)\n",
      "model KNeighborsClassifier(n_neighbors=61)\n",
      "model KNeighborsClassifier(n_neighbors=48)\n",
      "model KNeighborsClassifier(n_neighbors=178)\n",
      "model KNeighborsClassifier(n_neighbors=12)\n",
      "model KNeighborsClassifier(n_neighbors=157)\n",
      "model KNeighborsClassifier(n_neighbors=71)\n"
     ]
    },
    {
     "name": "stderr",
     "output_type": "stream",
     "text": [
      "C:\\Users\\jpohl\\anaconda3\\lib\\site-packages\\skopt\\optimizer\\optimizer.py:449: UserWarning: The objective has been evaluated at this point before.\n",
      "  warnings.warn(\"The objective has been evaluated \"\n"
     ]
    },
    {
     "name": "stdout",
     "output_type": "stream",
     "text": [
      "model KNeighborsClassifier(n_neighbors=163)\n",
      "model KNeighborsClassifier(n_neighbors=193)\n",
      "model KNeighborsClassifier(n_neighbors=168)\n",
      "model KNeighborsClassifier(n_neighbors=154)\n"
     ]
    },
    {
     "name": "stderr",
     "output_type": "stream",
     "text": [
      "C:\\Users\\jpohl\\anaconda3\\lib\\site-packages\\skopt\\optimizer\\optimizer.py:449: UserWarning: The objective has been evaluated at this point before.\n",
      "  warnings.warn(\"The objective has been evaluated \"\n"
     ]
    },
    {
     "name": "stdout",
     "output_type": "stream",
     "text": [
      "model KNeighborsClassifier(n_neighbors=124)\n",
      "model KNeighborsClassifier(n_neighbors=117)\n",
      "model KNeighborsClassifier(n_neighbors=127)\n",
      "model KNeighborsClassifier(n_neighbors=108)\n",
      "model KNeighborsClassifier(n_neighbors=64)\n",
      "model KNeighborsClassifier(n_neighbors=58)\n",
      "model KNeighborsClassifier(n_neighbors=135)\n",
      "model KNeighborsClassifier(n_neighbors=97)\n",
      "model KNeighborsClassifier(n_neighbors=43)\n",
      "model KNeighborsClassifier(n_neighbors=182)\n",
      "model KNeighborsClassifier(n_neighbors=196)\n",
      "model KNeighborsClassifier(n_neighbors=175)\n",
      "model KNeighborsClassifier(n_neighbors=190)\n",
      "model KNeighborsClassifier(n_neighbors=72)\n",
      "model KNeighborsClassifier(n_neighbors=149)\n"
     ]
    },
    {
     "name": "stderr",
     "output_type": "stream",
     "text": [
      "C:\\Users\\jpohl\\anaconda3\\lib\\site-packages\\skopt\\optimizer\\optimizer.py:449: UserWarning: The objective has been evaluated at this point before.\n",
      "  warnings.warn(\"The objective has been evaluated \"\n"
     ]
    },
    {
     "name": "stdout",
     "output_type": "stream",
     "text": [
      "model KNeighborsClassifier(n_neighbors=137)\n",
      "model KNeighborsClassifier(n_neighbors=138)\n"
     ]
    },
    {
     "name": "stderr",
     "output_type": "stream",
     "text": [
      "C:\\Users\\jpohl\\anaconda3\\lib\\site-packages\\skopt\\optimizer\\optimizer.py:449: UserWarning: The objective has been evaluated at this point before.\n",
      "  warnings.warn(\"The objective has been evaluated \"\n"
     ]
    },
    {
     "name": "stdout",
     "output_type": "stream",
     "text": [
      "model KNeighborsClassifier(n_neighbors=137)\n"
     ]
    },
    {
     "name": "stderr",
     "output_type": "stream",
     "text": [
      "C:\\Users\\jpohl\\anaconda3\\lib\\site-packages\\skopt\\optimizer\\optimizer.py:449: UserWarning: The objective has been evaluated at this point before.\n",
      "  warnings.warn(\"The objective has been evaluated \"\n"
     ]
    },
    {
     "name": "stdout",
     "output_type": "stream",
     "text": [
      "model KNeighborsClassifier(n_neighbors=147)\n",
      "model KNeighborsClassifier(n_neighbors=74)\n"
     ]
    },
    {
     "name": "stderr",
     "output_type": "stream",
     "text": [
      "C:\\Users\\jpohl\\anaconda3\\lib\\site-packages\\skopt\\optimizer\\optimizer.py:449: UserWarning: The objective has been evaluated at this point before.\n",
      "  warnings.warn(\"The objective has been evaluated \"\n"
     ]
    },
    {
     "name": "stdout",
     "output_type": "stream",
     "text": [
      "model KNeighborsClassifier(n_neighbors=147)\n",
      "model KNeighborsClassifier(n_neighbors=161)\n"
     ]
    },
    {
     "name": "stderr",
     "output_type": "stream",
     "text": [
      "C:\\Users\\jpohl\\anaconda3\\lib\\site-packages\\skopt\\optimizer\\optimizer.py:449: UserWarning: The objective has been evaluated at this point before.\n",
      "  warnings.warn(\"The objective has been evaluated \"\n"
     ]
    },
    {
     "name": "stdout",
     "output_type": "stream",
     "text": [
      "model KNeighborsClassifier(n_neighbors=127)\n"
     ]
    },
    {
     "name": "stderr",
     "output_type": "stream",
     "text": [
      "C:\\Users\\jpohl\\anaconda3\\lib\\site-packages\\skopt\\optimizer\\optimizer.py:449: UserWarning: The objective has been evaluated at this point before.\n",
      "  warnings.warn(\"The objective has been evaluated \"\n"
     ]
    },
    {
     "name": "stdout",
     "output_type": "stream",
     "text": [
      "model KNeighborsClassifier(n_neighbors=160)\n"
     ]
    },
    {
     "name": "stderr",
     "output_type": "stream",
     "text": [
      "C:\\Users\\jpohl\\anaconda3\\lib\\site-packages\\skopt\\optimizer\\optimizer.py:449: UserWarning: The objective has been evaluated at this point before.\n",
      "  warnings.warn(\"The objective has been evaluated \"\n"
     ]
    },
    {
     "name": "stdout",
     "output_type": "stream",
     "text": [
      "model KNeighborsClassifier(n_neighbors=58)\n",
      "model KNeighborsClassifier(n_neighbors=122)\n",
      "model KNeighborsClassifier(n_neighbors=88)\n",
      "model KNeighborsClassifier(n_neighbors=80)\n",
      "model KNeighborsClassifier(n_neighbors=84)\n",
      "model KNeighborsClassifier(n_neighbors=165)\n",
      "model KNeighborsClassifier(n_neighbors=129)\n",
      "model KNeighborsClassifier(n_neighbors=7)\n"
     ]
    },
    {
     "name": "stderr",
     "output_type": "stream",
     "text": [
      "C:\\Users\\jpohl\\anaconda3\\lib\\site-packages\\skopt\\optimizer\\optimizer.py:449: UserWarning: The objective has been evaluated at this point before.\n",
      "  warnings.warn(\"The objective has been evaluated \"\n"
     ]
    },
    {
     "name": "stdout",
     "output_type": "stream",
     "text": [
      "model KNeighborsClassifier(n_neighbors=157)\n",
      "model KNeighborsClassifier(n_neighbors=57)\n"
     ]
    },
    {
     "name": "stderr",
     "output_type": "stream",
     "text": [
      "C:\\Users\\jpohl\\anaconda3\\lib\\site-packages\\skopt\\optimizer\\optimizer.py:449: UserWarning: The objective has been evaluated at this point before.\n",
      "  warnings.warn(\"The objective has been evaluated \"\n"
     ]
    },
    {
     "name": "stdout",
     "output_type": "stream",
     "text": [
      "model KNeighborsClassifier(n_neighbors=156)\n",
      "model KNeighborsClassifier(n_neighbors=59)\n"
     ]
    },
    {
     "name": "stderr",
     "output_type": "stream",
     "text": [
      "C:\\Users\\jpohl\\anaconda3\\lib\\site-packages\\skopt\\optimizer\\optimizer.py:449: UserWarning: The objective has been evaluated at this point before.\n",
      "  warnings.warn(\"The objective has been evaluated \"\n"
     ]
    },
    {
     "name": "stdout",
     "output_type": "stream",
     "text": [
      "model KNeighborsClassifier(n_neighbors=131)\n",
      "model KNeighborsClassifier(n_neighbors=140)\n",
      "model KNeighborsClassifier(n_neighbors=159)\n"
     ]
    },
    {
     "name": "stderr",
     "output_type": "stream",
     "text": [
      "C:\\Users\\jpohl\\anaconda3\\lib\\site-packages\\skopt\\optimizer\\optimizer.py:449: UserWarning: The objective has been evaluated at this point before.\n",
      "  warnings.warn(\"The objective has been evaluated \"\n"
     ]
    },
    {
     "name": "stdout",
     "output_type": "stream",
     "text": [
      "model KNeighborsClassifier(n_neighbors=154)\n"
     ]
    },
    {
     "name": "stderr",
     "output_type": "stream",
     "text": [
      "C:\\Users\\jpohl\\anaconda3\\lib\\site-packages\\skopt\\optimizer\\optimizer.py:449: UserWarning: The objective has been evaluated at this point before.\n",
      "  warnings.warn(\"The objective has been evaluated \"\n"
     ]
    },
    {
     "name": "stdout",
     "output_type": "stream",
     "text": [
      "model KNeighborsClassifier(n_neighbors=154)\n",
      "model KNeighborsClassifier(n_neighbors=52)\n",
      "model KNeighborsClassifier(n_neighbors=62)\n",
      "model KNeighborsClassifier(n_neighbors=142)\n",
      "model KNeighborsClassifier(n_neighbors=119)\n"
     ]
    },
    {
     "name": "stderr",
     "output_type": "stream",
     "text": [
      "C:\\Users\\jpohl\\anaconda3\\lib\\site-packages\\skopt\\optimizer\\optimizer.py:449: UserWarning: The objective has been evaluated at this point before.\n",
      "  warnings.warn(\"The objective has been evaluated \"\n"
     ]
    },
    {
     "name": "stdout",
     "output_type": "stream",
     "text": [
      "model KNeighborsClassifier(n_neighbors=153)\n",
      "model KNeighborsClassifier(n_neighbors=170)\n",
      "model KNeighborsClassifier(n_neighbors=81)\n"
     ]
    },
    {
     "name": "stderr",
     "output_type": "stream",
     "text": [
      "C:\\Users\\jpohl\\anaconda3\\lib\\site-packages\\skopt\\optimizer\\optimizer.py:449: UserWarning: The objective has been evaluated at this point before.\n",
      "  warnings.warn(\"The objective has been evaluated \"\n"
     ]
    },
    {
     "name": "stdout",
     "output_type": "stream",
     "text": [
      "model KNeighborsClassifier(n_neighbors=81)\n"
     ]
    },
    {
     "name": "stderr",
     "output_type": "stream",
     "text": [
      "C:\\Users\\jpohl\\anaconda3\\lib\\site-packages\\skopt\\optimizer\\optimizer.py:449: UserWarning: The objective has been evaluated at this point before.\n",
      "  warnings.warn(\"The objective has been evaluated \"\n"
     ]
    },
    {
     "name": "stdout",
     "output_type": "stream",
     "text": [
      "model KNeighborsClassifier(n_neighbors=81)\n",
      "model KNeighborsClassifier(n_neighbors=33)\n"
     ]
    },
    {
     "name": "stderr",
     "output_type": "stream",
     "text": [
      "C:\\Users\\jpohl\\anaconda3\\lib\\site-packages\\skopt\\optimizer\\optimizer.py:449: UserWarning: The objective has been evaluated at this point before.\n",
      "  warnings.warn(\"The objective has been evaluated \"\n"
     ]
    },
    {
     "name": "stdout",
     "output_type": "stream",
     "text": [
      "model KNeighborsClassifier(n_neighbors=81)\n"
     ]
    },
    {
     "name": "stderr",
     "output_type": "stream",
     "text": [
      "C:\\Users\\jpohl\\anaconda3\\lib\\site-packages\\skopt\\optimizer\\optimizer.py:449: UserWarning: The objective has been evaluated at this point before.\n",
      "  warnings.warn(\"The objective has been evaluated \"\n"
     ]
    },
    {
     "name": "stdout",
     "output_type": "stream",
     "text": [
      "model KNeighborsClassifier(n_neighbors=81)\n",
      "Best accuracy=0.7667\n",
      "Best parameters: [81]\n"
     ]
    },
    {
     "data": {
      "image/png": "[encoded data removed]",
      "text/plain": [
       "<Figure size 432x288 with 1 Axes>"
      ]
     },
     "metadata": {
      "needs_background": "light"
     },
     "output_type": "display_data"
    }
   ],
   "source": [
    "model = KNeighborsClassifier() # best accuracy = 0.7667\n",
    "\n",
    "space  = [Integer(1, 100, name='n_neighbors')] # best = 81\n",
    "\n",
    "@use_named_args(space)\n",
    "def objective(**params):\n",
    "    model.set_params(**params)\n",
    "    return (1 - (find_model_expected_accuracy(X_ref, y_ref, batch_size, model=model))[0])\n",
    "\n",
    "res_gp = gp_minimize(objective, space, n_calls=100, random_state=random_state)\n",
    "\n",
    "print(\"Best accuracy=%.4f\" % (1 - res_gp.fun))\n",
    "print(\"\"\"Best parameters:\"\"\", res_gp.x)\n",
    "plot_convergence(res_gp)\n",
    "model_final_accuracies[\"KNeighborsClassifier\"] = (1 - res_gp.fun)"
   ]
  },
  {
   "cell_type": "markdown",
   "id": "ad221a8c",
   "metadata": {},
   "source": [
    "### Try SVM"
   ]
  },
  {
   "cell_type": "code",
   "execution_count": 11,
   "id": "8dbe27f2",
   "metadata": {},
   "outputs": [
    {
     "name": "stdout",
     "output_type": "stream",
     "text": [
      "model SVC(C=15.951205438518636, random_state=42)\n",
      "model SVC(C=3.75035231833666, random_state=42)\n",
      "model SVC(C=15.615850905428111, random_state=42)\n",
      "model SVC(C=11.977318143135092, random_state=42)\n",
      "model SVC(C=8.972071781786465, random_state=42)\n",
      "model SVC(C=2.089500824778258, random_state=42)\n",
      "model SVC(C=9.239052950120758, random_state=42)\n",
      "model SVC(C=6.740801361666535, random_state=42)\n",
      "model SVC(C=2.943049676646622, random_state=42)\n",
      "model SVC(C=13.052680611682174, random_state=42)\n",
      "Best accuracy=0.7667\n",
      "Best parameters: [2.089500824778258]\n"
     ]
    },
    {
     "data": {
      "image/png": "[encoded data removed]",
      "text/plain": [
       "<Figure size 432x288 with 1 Axes>"
      ]
     },
     "metadata": {
      "needs_background": "light"
     },
     "output_type": "display_data"
    }
   ],
   "source": [
    "model = SVC(random_state=random_state) # best accuracy = 0.7667\n",
    "\n",
    "space  = [Real(0.1, 20, name='C')] # best = 2.09\n",
    "\n",
    "@use_named_args(space)\n",
    "def objective(**params):\n",
    "    model.set_params(**params)\n",
    "    return (1 - (find_model_expected_accuracy(X_ref, y_ref, batch_size, model=model))[0])\n",
    "\n",
    "res_gp = gp_minimize(objective, space, n_calls=10, random_state=random_state)\n",
    "\n",
    "print(\"Best accuracy=%.4f\" % (1 - res_gp.fun))\n",
    "print(\"\"\"Best parameters:\"\"\", res_gp.x)\n",
    "plot_convergence(res_gp)\n",
    "model_final_accuracies[\"SVM\"] = (1 - res_gp.fun)"
   ]
  },
  {
   "cell_type": "markdown",
   "id": "5a33c868",
   "metadata": {},
   "source": [
    "### Try logistic regression"
   ]
  },
  {
   "cell_type": "code",
   "execution_count": 12,
   "id": "8dd34656",
   "metadata": {},
   "outputs": [
    {
     "name": "stdout",
     "output_type": "stream",
     "text": [
      "model LogisticRegression(C=15.951205438518636, max_iter=10000, random_state=42)\n",
      "model LogisticRegression(C=3.75035231833666, max_iter=10000, random_state=42)\n",
      "model LogisticRegression(C=15.615850905428111, max_iter=10000, random_state=42)\n",
      "model LogisticRegression(C=11.977318143135092, max_iter=10000, random_state=42)\n",
      "model LogisticRegression(C=8.972071781786465, max_iter=10000, random_state=42)\n",
      "model LogisticRegression(C=2.089500824778258, max_iter=10000, random_state=42)\n",
      "model LogisticRegression(C=9.239052950120758, max_iter=10000, random_state=42)\n",
      "model LogisticRegression(C=6.740801361666535, max_iter=10000, random_state=42)\n",
      "model LogisticRegression(C=2.943049676646622, max_iter=10000, random_state=42)\n",
      "model LogisticRegression(C=13.052680611682174, max_iter=10000, random_state=42)\n",
      "model LogisticRegression(C=19.996999965279368, max_iter=10000, random_state=42)\n",
      "model LogisticRegression(C=18.117588650682713, max_iter=10000, random_state=42)\n",
      "model LogisticRegression(C=10.397441710451778, max_iter=10000, random_state=42)\n",
      "model LogisticRegression(C=0.10183670725873721, max_iter=10000, random_state=42)\n",
      "model LogisticRegression(C=10.198691229351402, max_iter=10000, random_state=42)\n",
      "model LogisticRegression(C=5.283712107106274, max_iter=10000, random_state=42)\n",
      "model LogisticRegression(C=10.236407747553024, max_iter=10000, random_state=42)\n",
      "model LogisticRegression(C=14.18963758962942, max_iter=10000, random_state=42)\n",
      "model LogisticRegression(C=7.939708905679239, max_iter=10000, random_state=42)\n",
      "model LogisticRegression(C=19.112849783203057, max_iter=10000, random_state=42)\n",
      "model LogisticRegression(C=17.10397379163037, max_iter=10000, random_state=42)\n",
      "model LogisticRegression(C=10.31212045618828, max_iter=10000, random_state=42)\n",
      "model LogisticRegression(C=10.30778093527655, max_iter=10000, random_state=42)\n",
      "model LogisticRegression(C=11.202803703643621, max_iter=10000, random_state=42)\n",
      "model LogisticRegression(C=10.303091877347365, max_iter=10000, random_state=42)\n",
      "model LogisticRegression(C=10.301223953584907, max_iter=10000, random_state=42)\n",
      "model LogisticRegression(C=4.554121293702888, max_iter=10000, random_state=42)\n",
      "model LogisticRegression(C=6.019516450188551, max_iter=10000, random_state=42)\n",
      "model LogisticRegression(C=10.494259029198927, max_iter=10000, random_state=42)\n",
      "model LogisticRegression(C=10.07248960343402, max_iter=10000, random_state=42)\n",
      "model LogisticRegression(C=10.138611069635955, max_iter=10000, random_state=42)\n",
      "model LogisticRegression(C=1.1350567493385253, max_iter=10000, random_state=42)\n",
      "model LogisticRegression(C=10.666540608041572, max_iter=10000, random_state=42)\n",
      "model LogisticRegression(C=14.836103992612012, max_iter=10000, random_state=42)\n",
      "model LogisticRegression(C=7.413332008407836, max_iter=10000, random_state=42)\n",
      "model LogisticRegression(C=8.434003273435838, max_iter=10000, random_state=42)\n",
      "model LogisticRegression(C=13.606416244316176, max_iter=10000, random_state=42)\n",
      "model LogisticRegression(C=16.558638575440806, max_iter=10000, random_state=42)\n",
      "model LogisticRegression(C=12.511571703000259, max_iter=10000, random_state=42)\n",
      "model LogisticRegression(C=9.683087960712122, max_iter=10000, random_state=42)\n",
      "model LogisticRegression(C=18.613460334528302, max_iter=10000, random_state=42)\n",
      "model LogisticRegression(C=17.612223899622453, max_iter=10000, random_state=42)\n",
      "model LogisticRegression(C=19.584723478365337, max_iter=10000, random_state=42)\n",
      "model LogisticRegression(C=11.5533898099386, max_iter=10000, random_state=42)\n",
      "model LogisticRegression(C=9.838726778722078, max_iter=10000, random_state=42)\n",
      "model LogisticRegression(C=9.984038025520698, max_iter=10000, random_state=42)\n",
      "model LogisticRegression(C=9.750817499899533, max_iter=10000, random_state=42)\n",
      "model LogisticRegression(C=1.5752183671329245, max_iter=10000, random_state=42)\n",
      "model LogisticRegression(C=3.360176984831864, max_iter=10000, random_state=42)\n",
      "model LogisticRegression(C=9.577782697683043, max_iter=10000, random_state=42)\n",
      "model LogisticRegression(C=10.452210877542955, max_iter=10000, random_state=42)\n",
      "model LogisticRegression(C=15.192212330646626, max_iter=10000, random_state=42)\n",
      "model LogisticRegression(C=5.648821119039757, max_iter=10000, random_state=42)\n",
      "model LogisticRegression(C=4.143198622843889, max_iter=10000, random_state=42)\n",
      "model LogisticRegression(C=9.623680115166199, max_iter=10000, random_state=42)\n",
      "model LogisticRegression(C=7.084823260797844, max_iter=10000, random_state=42)\n",
      "model LogisticRegression(C=14.499857880403368, max_iter=10000, random_state=42)\n",
      "model LogisticRegression(C=2.5451281959152436, max_iter=10000, random_state=42)\n",
      "model LogisticRegression(C=6.378801866874749, max_iter=10000, random_state=42)\n",
      "model LogisticRegression(C=0.6796154590702025, max_iter=10000, random_state=42)\n",
      "model LogisticRegression(C=9.911446153870408, max_iter=10000, random_state=42)\n",
      "model LogisticRegression(C=9.52662251899416, max_iter=10000, random_state=42)\n",
      "model LogisticRegression(C=4.926896791751304, max_iter=10000, random_state=42)\n",
      "model LogisticRegression(C=8.688466595821938, max_iter=10000, random_state=42)\n",
      "model LogisticRegression(C=13.329536016720036, max_iter=10000, random_state=42)\n",
      "model LogisticRegression(C=10.461696371920679, max_iter=10000, random_state=42)\n",
      "model LogisticRegression(C=10.028424000754859, max_iter=10000, random_state=42)\n",
      "model LogisticRegression(C=9.794466178897677, max_iter=10000, random_state=42)\n",
      "model LogisticRegression(C=7.693116522827136, max_iter=10000, random_state=42)\n",
      "model LogisticRegression(C=16.263991326301902, max_iter=10000, random_state=42)\n",
      "model LogisticRegression(C=13.899760416727288, max_iter=10000, random_state=42)\n",
      "model LogisticRegression(C=12.24993772821122, max_iter=10000, random_state=42)\n",
      "model LogisticRegression(C=8.183028096332475, max_iter=10000, random_state=42)\n",
      "model LogisticRegression(C=9.55661622480741, max_iter=10000, random_state=42)\n",
      "model LogisticRegression(C=10.355454512860272, max_iter=10000, random_state=42)\n",
      "model LogisticRegression(C=9.874611116107038, max_iter=10000, random_state=42)\n",
      "model LogisticRegression(C=9.947979592724732, max_iter=10000, random_state=42)\n",
      "model LogisticRegression(C=12.78403176868984, max_iter=10000, random_state=42)\n",
      "model LogisticRegression(C=9.717088884991092, max_iter=10000, random_state=42)\n",
      "model LogisticRegression(C=10.464900232816703, max_iter=10000, random_state=42)\n",
      "model LogisticRegression(C=10.105655998083765, max_iter=10000, random_state=42)\n",
      "model LogisticRegression(C=10.169201746335498, max_iter=10000, random_state=42)\n",
      "model LogisticRegression(C=10.258274432500409, max_iter=10000, random_state=42)\n",
      "model LogisticRegression(C=16.843379652173613, max_iter=10000, random_state=42)\n",
      "model LogisticRegression(C=17.867174441190144, max_iter=10000, random_state=42)\n",
      "model LogisticRegression(C=9.55719831447272, max_iter=10000, random_state=42)\n",
      "model LogisticRegression(C=9.655991008950075, max_iter=10000, random_state=42)\n",
      "model LogisticRegression(C=10.46374583784397, max_iter=10000, random_state=42)\n",
      "model LogisticRegression(C=10.01360602617039, max_iter=10000, random_state=42)\n",
      "model LogisticRegression(C=10.97291002450915, max_iter=10000, random_state=42)\n",
      "model LogisticRegression(C=9.812251135346017, max_iter=10000, random_state=42)\n",
      "model LogisticRegression(C=18.8644142938054, max_iter=10000, random_state=42)\n",
      "model LogisticRegression(C=9.764867831786605, max_iter=10000, random_state=42)\n",
      "model LogisticRegression(C=11.749492521949705, max_iter=10000, random_state=42)\n",
      "model LogisticRegression(C=17.356500313230217, max_iter=10000, random_state=42)\n",
      "model LogisticRegression(C=10.058846576091632, max_iter=10000, random_state=42)\n",
      "model LogisticRegression(C=10.352142847199712, max_iter=10000, random_state=42)\n",
      "model LogisticRegression(C=19.806257967857633, max_iter=10000, random_state=42)\n",
      "model LogisticRegression(C=9.893289901421644, max_iter=10000, random_state=42)\n",
      "model LogisticRegression(C=9.955161773857878, max_iter=10000, random_state=42)\n",
      "Best accuracy=0.7667\n",
      "Best parameters: [10.397441710451778]\n"
     ]
    },
    {
     "data": {
      "image/png": "[encoded data removed]",
      "text/plain": [
       "<Figure size 432x288 with 1 Axes>"
      ]
     },
     "metadata": {
      "needs_background": "light"
     },
     "output_type": "display_data"
    }
   ],
   "source": [
    "model = LogisticRegression(random_state=random_state, max_iter=10000) # best accuracy = 0.7667\n",
    "\n",
    "space  = [Real(0.1, 20, name='C')] # best = 10.40\n",
    "\n",
    "@use_named_args(space)\n",
    "def objective(**params):\n",
    "    model.set_params(**params)\n",
    "    return (1 - (find_model_expected_accuracy(X_ref, y_ref, batch_size, model=model))[0])\n",
    "\n",
    "res_gp = gp_minimize(objective, space, n_calls=100, random_state=random_state)\n",
    "\n",
    "print(\"Best accuracy=%.4f\" % (1 - res_gp.fun))\n",
    "print(\"\"\"Best parameters:\"\"\", res_gp.x)\n",
    "plot_convergence(res_gp)\n",
    "model_final_accuracies[\"LogisticRegression\"] = (1 - res_gp.fun)"
   ]
  },
  {
   "cell_type": "markdown",
   "id": "19ac52db",
   "metadata": {},
   "source": [
    "## Use the best model to define drifting batches"
   ]
  },
  {
   "cell_type": "markdown",
   "id": "cd1d1748",
   "metadata": {},
   "source": [
    "### Find the best model through accuracies"
   ]
  },
  {
   "cell_type": "code",
   "execution_count": 5,
   "id": "3ce80c66",
   "metadata": {},
   "outputs": [
    {
     "name": "stdout",
     "output_type": "stream",
     "text": [
      "best obtained model accuracies:\n"
     ]
    },
    {
     "ename": "NameError",
     "evalue": "name 'model_final_accuracies' is not defined",
     "output_type": "error",
     "traceback": [
      "\u001b[1;31m---------------------------------------------------------------------------\u001b[0m",
      "\u001b[1;31mNameError\u001b[0m                                 Traceback (most recent call last)",
      "Cell \u001b[1;32mIn[5], line 2\u001b[0m\n\u001b[0;32m      1\u001b[0m \u001b[38;5;28mprint\u001b[39m(\u001b[38;5;124m'\u001b[39m\u001b[38;5;124mbest obtained model accuracies:\u001b[39m\u001b[38;5;124m'\u001b[39m)\n\u001b[1;32m----> 2\u001b[0m \u001b[38;5;28mprint\u001b[39m(\u001b[43mmodel_final_accuracies\u001b[49m)\n",
      "\u001b[1;31mNameError\u001b[0m: name 'model_final_accuracies' is not defined"
     ]
    }
   ],
   "source": [
    "print('best obtained model accuracies:')\n",
    "print(model_final_accuracies)"
   ]
  },
  {
   "cell_type": "markdown",
   "id": "9580f06f",
   "metadata": {},
   "source": [
    "### Define the model with the best parameters (hardcoded in the cells above), get its accuracy information"
   ]
  },
  {
   "cell_type": "code",
   "execution_count": 6,
   "id": "60201786",
   "metadata": {},
   "outputs": [
    {
     "name": "stdout",
     "output_type": "stream",
     "text": [
      "model SVC(C=2.09, random_state=42)\n",
      "expected accuracy: 0.7666666666666667\n",
      "expected standard deviation: 0.06992058987801013\n"
     ]
    }
   ],
   "source": [
    "# taking SVM because it performs best in yearly predictions\n",
    "\n",
    "best_model = SVC(random_state=random_state, C=2.09)\n",
    "expected_accuracy, expected_standard_deviation = find_model_expected_accuracy(X_ref, y_ref, batch_size, model=best_model)\n",
    "print('expected accuracy:', expected_accuracy)\n",
    "print('expected standard deviation:', expected_standard_deviation)"
   ]
  },
  {
   "cell_type": "markdown",
   "id": "653bf413",
   "metadata": {},
   "source": [
    "### Fit the model on all reference data"
   ]
  },
  {
   "cell_type": "code",
   "execution_count": 7,
   "id": "cbe7600c",
   "metadata": {},
   "outputs": [],
   "source": [
    "best_model_fitted = SVC(random_state=random_state, C=2.09).fit(X_ref, y_ref)"
   ]
  },
  {
   "cell_type": "markdown",
   "id": "2febc189",
   "metadata": {},
   "source": [
    "### Split testing data to batches"
   ]
  },
  {
   "cell_type": "code",
   "execution_count": 8,
   "id": "77ffdb07",
   "metadata": {},
   "outputs": [
    {
     "name": "stdout",
     "output_type": "stream",
     "text": [
      "chunk size 30\n",
      "number of chunks 403\n",
      "number of data 12106\n",
      "shape of X that can be split perfectly (12090, 8)\n",
      "number of resulting batches 403\n",
      "[[0.80538922 0.84       0.57272727 0.63404255 0.14285714 0.16985138\n",
      "  0.00855777 0.7854954 ]\n",
      " [0.82035928 0.85853659 0.56060606 0.65106383 0.11278195 0.14861996\n",
      "  0.00936756 0.7854954 ]\n",
      " [0.88922156 0.87804878 0.49242424 0.62978723 0.16165414 0.1910828\n",
      "  0.00965749 0.86823289]\n",
      " [0.8992016  0.92682927 0.4530303  0.6212766  0.21052632 0.23142251\n",
      "  0.00987743 0.87742594]\n",
      " [0.94111776 0.94829268 0.42272727 0.62978723 0.2556391  0.21019108\n",
      "  0.01026733 0.92849847]\n",
      " [0.93013972 0.95219512 0.44090909 0.62978723 0.22180451 0.16985138\n",
      "  0.00987743 0.94892748]\n",
      " [0.85129741 0.96878049 0.53181818 0.65957447 0.15413534 0.25690021\n",
      "  0.00926759 0.8886619 ]\n",
      " [0.84431138 0.96585366 0.57878788 0.50638298 0.16541353 0.10828025\n",
      "  0.0084678  0.8886619 ]\n",
      " [0.84231537 0.95317073 0.57575758 0.22978723 0.12030075 0.08280255\n",
      "  0.00866775 0.89785495]\n",
      " [0.84231537 0.89170732 0.56515152 0.4893617  0.13909774 0.23142251\n",
      "  0.00866775 0.85699694]\n",
      " [0.73752495 0.82926829 0.58636364 0.68085106 0.07894737 0.14861996\n",
      "  0.00836782 0.77630235]\n",
      " [0.66067864 0.78731707 0.63030303 0.48510638 0.14661654 0.12951168\n",
      "  0.00695819 0.72420838]\n",
      " [0.70159681 0.78536585 0.64242424 0.72765957 0.11654135 0.16985138\n",
      "  0.00746806 0.70480082]\n",
      " [0.71257485 0.83121951 0.58181818 0.57446809 0.2481203  0.25690021\n",
      "  0.00737808 0.77630235]\n",
      " [0.76047904 0.90243902 0.52424242 0.34893617 0.18796992 0.40552017\n",
      "  0.00796793 0.81613892]\n",
      " [0.76846307 0.90926829 0.51969697 0.2893617  0.18796992 0.25690021\n",
      "  0.00776798 0.84576098]\n",
      " [0.78243513 0.93073171 0.49848485 0.22978723 0.12030075 0.10828025\n",
      "  0.00776798 0.86414709]\n",
      " [0.80538922 0.93268293 0.57878788 0.17021277 0.13909774 0.10828025\n",
      "  0.00836782 0.85699694]\n",
      " [0.81237525 0.94439024 0.62727273 0.18297872 0.04135338 0.06369427\n",
      "  0.00836782 0.82533197]\n",
      " [0.83133733 0.93853659 0.59393939 0.12765957 0.10526316 0.14861996\n",
      "  0.00855777 0.84576098]\n",
      " [0.86027944 0.95317073 0.54090909 0.1787234  0.18045113 0.14861996\n",
      "  0.00936756 0.87742594]\n",
      " [0.85429142 0.94536585 0.59393939 0.35744681 0.12781955 0.1910828\n",
      "  0.00906764 0.90806946]\n",
      " [0.78542914 0.85658537 0.65151515 0.66808511 0.06015038 0.08280255\n",
      "  0.00836782 0.77630235]\n",
      " [0.83133733 0.90439024 0.50454545 0.75744681 0.18421053 0.21019108\n",
      "  0.00906764 0.85699694]\n",
      " [0.81936128 0.91512195 0.4969697  0.69361702 0.06390977 0.08280255\n",
      "  0.00855777 0.85699694]\n",
      " [0.7994012  0.89853659 0.49090909 0.64680851 0.23308271 0.29723992\n",
      "  0.00827785 0.86823289]\n",
      " [0.76147705 0.81853659 0.58484848 0.81702128 0.13909774 0.16985138\n",
      "  0.00816788 0.75383044]\n",
      " [0.75948104 0.86439024 0.4969697  0.74468085 0.17293233 0.16985138\n",
      "  0.00785796 0.80592441]\n",
      " [0.75449102 0.84195122 0.53181818 0.64255319 0.21428571 0.1910828\n",
      "  0.00756803 0.79673136]\n",
      " [0.71057884 0.80097561 0.62878788 0.57446809 0.15413534 0.12951168\n",
      "  0.00776798 0.74463739]]\n",
      "(30, 8)\n"
     ]
    }
   ],
   "source": [
    "def split_to_fixed_size_batches(X, y, batch_size):\n",
    "    \"\"\"Split X and y to batches of the given batch_size\"\"\"\n",
    "    chunk_size = batch_size\n",
    "    print('chunk size', chunk_size)\n",
    "\n",
    "    num_chunks = (X.shape[0] - (X.shape[0] % chunk_size)) // chunk_size\n",
    "    print('number of chunks', num_chunks)\n",
    "    print('number of data', X.shape[0])\n",
    "    X_perfect_size = X[:-(X.shape[0] % chunk_size), :]\n",
    "    y_perfect_size = y[:-(y.shape[0] % chunk_size)]\n",
    "    print('shape of X that can be split perfectly', X_perfect_size.shape)\n",
    "    X_batches = np.array_split(X_perfect_size, num_chunks)\n",
    "    y_batches = np.array_split(y_perfect_size, num_chunks)\n",
    "\n",
    "    print('number of resulting batches', len(X_batches))\n",
    "    print(X_batches[0])\n",
    "    print(X_batches[0].shape)\n",
    "    \n",
    "    return X_batches, y_batches\n",
    "\n",
    "\n",
    "X_test_batches, y_test_batches = split_to_fixed_size_batches(X_test, y_test, batch_size=batch_size)"
   ]
  },
  {
   "cell_type": "markdown",
   "id": "1455ddf0",
   "metadata": {},
   "source": [
    "### Find test batch accuracies"
   ]
  },
  {
   "cell_type": "code",
   "execution_count": 9,
   "id": "81cb0755",
   "metadata": {},
   "outputs": [
    {
     "name": "stdout",
     "output_type": "stream",
     "text": [
      "\n",
      "TEST BATCH ACCURACIES\n",
      "[0.9, 0.8333333333333334, 0.7, 0.8666666666666667, 0.8333333333333334, 0.7333333333333333, 0.9, 0.8, 0.8, 0.7333333333333333, 0.6666666666666666, 0.6666666666666666, 0.7333333333333333, 0.6666666666666666, 0.9666666666666667, 0.8, 0.7, 0.43333333333333335, 0.7333333333333333, 0.8333333333333334, 0.8666666666666667, 0.7333333333333333, 0.9, 0.7666666666666667, 0.8, 0.7666666666666667, 0.7666666666666667, 0.6666666666666666, 0.7, 0.8, 0.6333333333333333, 0.8, 0.7666666666666667, 0.8, 0.6666666666666666, 0.8, 0.7666666666666667, 0.8333333333333334, 0.8, 0.7666666666666667, 0.8666666666666667, 0.7666666666666667, 0.6666666666666666, 0.8333333333333334, 0.7, 0.7333333333333333, 0.6666666666666666, 0.6333333333333333, 0.6333333333333333, 0.7333333333333333, 0.8, 0.9666666666666667, 0.8333333333333334, 0.8666666666666667, 0.8, 0.8333333333333334, 0.8333333333333334, 0.7666666666666667, 0.7, 0.8333333333333334, 0.7666666666666667, 0.7333333333333333, 0.7333333333333333, 0.7333333333333333, 0.8333333333333334, 0.7666666666666667, 0.7333333333333333, 0.7333333333333333, 0.6666666666666666, 0.7, 0.7, 0.8, 0.8, 1.0, 0.8666666666666667, 0.7666666666666667, 0.7333333333333333, 0.8333333333333334, 0.9, 0.7333333333333333, 0.8, 0.9, 0.8666666666666667, 0.8666666666666667, 0.9, 0.8, 0.8333333333333334, 0.8333333333333334, 0.8333333333333334, 0.9333333333333333, 0.8666666666666667, 0.6, 0.8, 0.8333333333333334, 0.7333333333333333, 0.6666666666666666, 0.8333333333333334, 0.7666666666666667, 0.8, 0.8, 0.8, 0.8666666666666667, 0.6666666666666666, 0.8, 1.0, 0.8333333333333334, 0.8, 0.6666666666666666, 0.8666666666666667, 0.9, 0.9, 0.8666666666666667, 0.8666666666666667, 0.9333333333333333, 0.9333333333333333, 0.8666666666666667, 0.7333333333333333, 0.8666666666666667, 0.7333333333333333, 0.9, 0.8333333333333334, 0.7666666666666667, 0.7666666666666667, 0.8, 0.6, 0.8, 0.7, 0.8333333333333334, 0.8, 0.8333333333333334, 0.7333333333333333, 0.8, 0.8333333333333334, 0.8666666666666667, 0.8, 0.8666666666666667, 0.7666666666666667, 0.8, 0.7666666666666667, 0.8333333333333334, 0.7, 0.7666666666666667, 0.6, 0.7, 0.6666666666666666, 0.7666666666666667, 0.6666666666666666, 0.7333333333333333, 0.7, 0.8, 0.8666666666666667, 0.7, 0.7333333333333333, 0.6333333333333333, 0.8666666666666667, 0.9333333333333333, 0.8333333333333334, 0.9, 0.8666666666666667, 0.8333333333333334, 0.7, 0.6666666666666666, 0.7666666666666667, 0.7333333333333333, 0.8, 0.8, 0.6333333333333333, 0.8, 0.8666666666666667, 0.9, 0.8333333333333334, 0.7, 0.5333333333333333, 0.6, 0.5666666666666667, 0.6333333333333333, 0.6666666666666666, 0.6, 0.7333333333333333, 0.8, 0.9333333333333333, 0.7333333333333333, 0.5333333333333333, 0.7333333333333333, 0.6666666666666666, 0.6, 0.7333333333333333, 0.7333333333333333, 0.7, 0.9, 0.8, 0.6666666666666666, 0.8666666666666667, 0.8333333333333334, 0.8333333333333334, 0.7333333333333333, 0.6333333333333333, 0.8, 0.7666666666666667, 0.8, 0.7666666666666667, 0.7333333333333333, 0.7, 0.8, 0.6666666666666666, 0.7333333333333333, 0.9333333333333333, 0.7, 0.6333333333333333, 0.5666666666666667, 0.7, 0.7333333333333333, 0.7666666666666667, 0.6333333333333333, 0.6666666666666666, 0.7333333333333333, 0.6333333333333333, 0.7666666666666667, 0.8333333333333334, 0.6333333333333333, 0.7666666666666667, 0.7, 0.7666666666666667, 0.7, 0.8333333333333334, 0.7, 0.8, 0.6666666666666666, 0.7666666666666667, 0.9666666666666667, 0.8, 0.8333333333333334, 0.8, 0.8333333333333334, 0.9, 0.7666666666666667, 0.8, 0.7333333333333333, 0.7666666666666667, 0.7, 0.9, 0.9333333333333333, 0.7666666666666667, 0.8, 0.7333333333333333, 0.6, 0.5666666666666667, 0.8, 0.7333333333333333, 0.8333333333333334, 0.8333333333333334, 0.8, 0.7, 0.8, 0.7666666666666667, 0.7333333333333333, 0.7666666666666667, 0.9333333333333333, 0.7, 0.6666666666666666, 0.8, 0.7, 0.7, 0.8333333333333334, 0.6, 0.6, 0.8333333333333334, 0.8, 0.7666666666666667, 0.8666666666666667, 0.7666666666666667, 0.8333333333333334, 0.7666666666666667, 0.7, 0.7333333333333333, 0.7666666666666667, 0.7666666666666667, 0.7666666666666667, 0.7333333333333333, 0.9, 0.6666666666666666, 0.7, 0.6666666666666666, 0.5666666666666667, 0.8, 0.7666666666666667, 0.7666666666666667, 0.8, 0.7333333333333333, 0.8333333333333334, 0.8333333333333334, 0.8, 0.8333333333333334, 0.8, 0.7, 0.7, 0.6666666666666666, 0.8666666666666667, 0.7, 0.9, 0.8666666666666667, 0.6, 0.8333333333333334, 0.8666666666666667, 0.7666666666666667, 0.7, 0.8333333333333334, 0.7666666666666667, 0.7, 0.9, 0.7666666666666667, 0.7666666666666667, 0.7333333333333333, 0.7666666666666667, 0.8666666666666667, 0.7666666666666667, 0.9666666666666667, 0.9333333333333333, 0.6666666666666666, 0.7, 0.7333333333333333, 0.6666666666666666, 0.6333333333333333, 0.5, 0.7, 0.8333333333333334, 0.6666666666666666, 0.8666666666666667, 0.8333333333333334, 0.8666666666666667, 0.7333333333333333, 0.7333333333333333, 0.7333333333333333, 0.7, 0.6666666666666666, 0.8, 0.8, 0.6666666666666666, 0.8, 0.9333333333333333, 0.8333333333333334, 0.8333333333333334, 0.7, 0.8, 0.8, 0.7666666666666667, 0.7666666666666667, 0.7666666666666667, 0.8333333333333334, 0.5666666666666667, 0.7333333333333333, 0.8333333333333334, 0.6333333333333333, 0.9, 0.8666666666666667, 0.7666666666666667, 0.6, 0.9333333333333333, 0.7, 0.8, 0.8333333333333334, 0.5666666666666667, 0.8, 0.7, 0.8333333333333334, 0.9, 0.7333333333333333, 0.9333333333333333, 0.8666666666666667, 0.9, 0.8, 0.7666666666666667, 0.8666666666666667, 0.8666666666666667, 0.8, 0.9666666666666667, 0.9333333333333333, 0.9, 0.8, 0.9, 0.7333333333333333, 0.7666666666666667, 0.6333333333333333, 0.5333333333333333, 0.7666666666666667, 0.7, 0.6666666666666666, 0.8666666666666667, 0.6666666666666666, 0.8666666666666667, 0.7333333333333333, 0.8, 0.7, 0.8666666666666667, 0.8333333333333334, 0.7, 0.6333333333333333, 0.9, 0.6666666666666666, 0.6666666666666666, 0.8333333333333334, 0.8333333333333334, 0.7]\n"
     ]
    }
   ],
   "source": [
    "accs = []\n",
    "for batch in range(len(X_test_batches)):\n",
    "    accs.append(accuracy_score(y_test_batches[batch], best_model.predict(X_test_batches[batch])))\n",
    "    \n",
    "print('\\nTEST BATCH ACCURACIES')\n",
    "print(accs)"
   ]
  },
  {
   "cell_type": "markdown",
   "id": "d36b6f27",
   "metadata": {},
   "source": [
    "### Show drifting batches visually (below red line = drift)"
   ]
  },
  {
   "cell_type": "code",
   "execution_count": 10,
   "id": "0ad129c2",
   "metadata": {
    "scrolled": true
   },
   "outputs": [
    {
     "data": {
      "image/png": "[encoded data removed]",
      "text/plain": [
       "<Figure size 640x480 with 1 Axes>"
      ]
     },
     "metadata": {},
     "output_type": "display_data"
    }
   ],
   "source": [
    "total_num_batches = len(X_test_batches)\n",
    "barlist = plt.bar(range(total_num_batches), accs)\n",
    "plt.hlines(y=expected_accuracy - expected_standard_deviation, xmin=0, xmax=total_num_batches,\n",
    "           color='r', label='mean accuracy minus standard deviation')\n",
    "plt.legend(loc='upper center')\n",
    "plt.show()"
   ]
  },
  {
   "cell_type": "markdown",
   "id": "2e1cef99",
   "metadata": {},
   "source": [
    "### Define drifting batches"
   ]
  },
  {
   "cell_type": "code",
   "execution_count": 11,
   "id": "acdad344",
   "metadata": {},
   "outputs": [
    {
     "name": "stdout",
     "output_type": "stream",
     "text": [
      "Drift in first 100 batches:\n",
      "[False, False, False, False, False, False, False, False, False, False, True, True, False, True, False, False, False, True, False, False, False, False, False, False, False, False, False, True, False, False, True, False, False, False, True, False, False, False, False, False, False, False, True, False, False, False, True, True, True, False, False, False, False, False, False, False, False, False, False, False, False, False, False, False, False, False, False, False, True, False, False, False, False, False, False, False, False, False, False, False, False, False, False, False, False, False, False, False, False, False, False, True, False, False, False, True, False, False, False, False]\n"
     ]
    }
   ],
   "source": [
    "# define the batches with and without drift (same as the plot above)\n",
    "\n",
    "drift_boolean_mask = [True if acc < expected_accuracy - expected_standard_deviation else False for acc in accs]\n",
    "print('Drift in first 100 batches:')\n",
    "print(drift_boolean_mask[:100])"
   ]
  },
  {
   "cell_type": "markdown",
   "id": "72675b55",
   "metadata": {},
   "source": [
    "### Store the result in a file"
   ]
  },
  {
   "cell_type": "code",
   "execution_count": 12,
   "id": "1ee48489",
   "metadata": {},
   "outputs": [],
   "source": [
    "import csv\n",
    "with open('weather_monthly_drifts.csv', 'w') as f:\n",
    "    wrtr = csv.writer(f)\n",
    "    wrtr.writerow(drift_boolean_mask)"
   ]
  },
  {
   "cell_type": "code",
   "execution_count": null,
   "id": "7e85febf",
   "metadata": {},
   "outputs": [],
   "source": []
  }
 ],
 "metadata": {
  "kernelspec": {
   "display_name": "Python 3 (ipykernel)",
   "language": "python",
   "name": "python3"
  },
  "language_info": {
   "codemirror_mode": {
    "name": "ipython",
    "version": 3
   },
   "file_extension": ".py",
   "mimetype": "text/x-python",
   "name": "python",
   "nbconvert_exporter": "python",
   "pygments_lexer": "ipython3",
   "version": "3.9.10"
  }
 },
 "nbformat": 4,
 "nbformat_minor": 5
}
