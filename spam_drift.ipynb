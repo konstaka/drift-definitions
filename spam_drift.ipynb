{
 "cells": [
  {
   "cell_type": "code",
   "execution_count": 1,
   "metadata": {},
   "outputs": [],
   "source": [
    "#imports\n",
    "import numpy as np\n",
    "from sklearn import svm\n",
    "from sklearn.metrics import accuracy_score\n",
    "from sklearn.model_selection import cross_val_score, cross_val_predict\n",
    "from sklearn import preprocessing\n",
    "from scipy import stats\n",
    "import pandas as pd\n",
    "from scipy.io.arff import loadarff \n",
    "from sklearn import preprocessing\n",
    "from sklearn.preprocessing import OneHotEncoder, OrdinalEncoder, LabelEncoder\n",
    "import time\n",
    "from sklearn.ensemble import RandomForestClassifier\n",
    "from sklearn.model_selection import LeaveOneOut\n",
    "from sklearn.model_selection import KFold\n",
    "from numpy import mean\n",
    "from category_encoders import TargetEncoder\n",
    "from sklearn.preprocessing import MinMaxScaler\n",
    "import warnings\n",
    "warnings.filterwarnings('ignore')\n",
    "from random import randint\n",
    "from sklearn.model_selection import RandomizedSearchCV\n",
    "import matplotlib.pyplot as plt\n",
    "from sklearn.linear_model import LogisticRegression, PassiveAggressiveClassifier, Perceptron, Ridge, Lasso, ElasticNet, SGDClassifier\n",
    "from sklearn.naive_bayes import BernoulliNB, MultinomialNB\n",
    "from sklearn.neighbors import KNeighborsClassifier"
   ]
  },
  {
   "cell_type": "code",
   "execution_count": 2,
   "metadata": {},
   "outputs": [],
   "source": [
    "def get_all_data(path, features_encoder, size_training, scaler): \n",
    "#     data = loadarff(path)\n",
    "#     dataframe = pd.DataFrame(data[0])\n",
    "    dataframe = pd.read_csv(path)\n",
    "    labels = dataframe.iloc[: , -1]\n",
    "    features = dataframe.iloc[:, :-1]\n",
    "    le = preprocessing.LabelEncoder()\n",
    "    labels = le.fit_transform(labels)\n",
    "    if(features_encoder is None):\n",
    "        features = features._get_numeric_data()\n",
    "    else:\n",
    "        cols = features.columns\n",
    "        numerical_cols = features._get_numeric_data().columns\n",
    "        categorical_cols = list(set(cols) - set(numerical_cols))\n",
    "        \n",
    "        if(isinstance(features_encoder, OneHotEncoder)):\n",
    "            feature_arr = features_encoder.fit_transform(features[categorical_cols])\n",
    "            feature_labels =  features_encoder.get_feature_names(categorical_cols)\n",
    "            encoded_features = pd.DataFrame(feature_arr.toarray(), columns=feature_labels)\n",
    "            \n",
    "        if(isinstance(features_encoder, OrdinalEncoder)):\n",
    "            feature_arr = features_encoder.fit_transform(features[categorical_cols])\n",
    "            encoded_features = pd.DataFrame(feature_arr, columns=categorical_cols)\n",
    "            \n",
    "        if(isinstance(features_encoder, TargetEncoder)):\n",
    "            transform = features_encoder.fit_transform(features[categorical_cols].iloc[:size_training], labels[:size_training])\n",
    "            training_encoded = pd.DataFrame(transform, columns=categorical_cols)\n",
    "            testing_encoded = pd.DataFrame(features_encoder.transform(features[categorical_cols].iloc[size_training:len(features)]), columns=categorical_cols)\n",
    "            encoded_features = training_encoded.append(testing_encoded)\n",
    "            \n",
    "        features = features._get_numeric_data().join(encoded_features)\n",
    "        \n",
    "    if(scaler is True):\n",
    "        scaler = MinMaxScaler()\n",
    "        features_training = scaler.fit_transform(features.iloc[:size_training])\n",
    "        features_testing = scaler.transform(features.iloc[size_training:len(features)])\n",
    "        features_training_df = pd.DataFrame(features_training, columns=features.columns)\n",
    "        features_testing_df = pd.DataFrame(features_testing, columns=features.columns)\n",
    "        features = features_training_df.append(features_testing_df)\n",
    "        \n",
    "    return features,labels"
   ]
  },
  {
   "cell_type": "code",
   "execution_count": 3,
   "metadata": {},
   "outputs": [],
   "source": [
    "def get_training_data(features, labels, size_training, scaler): \n",
    "    training_features = features.iloc[:size_training]\n",
    "    training_labels = labels[:size_training]\n",
    "    return training_features, training_labels"
   ]
  },
  {
   "cell_type": "code",
   "execution_count": 4,
   "metadata": {},
   "outputs": [],
   "source": [
    "def learn_classifier(training_features, training_labels, classifier): \n",
    "    classifier.fit(training_features, training_labels)\n",
    "#     folds = range(5,31)\n",
    "#     #evalcrossvaluation\n",
    "#     # evaluate each k value\n",
    "#     for k in folds:\n",
    "#     # define the test condition\n",
    "#         cv = KFold(n_splits=k, shuffle=True, random_state=10)\n",
    "#         # record mean and min/max of each set of results\n",
    "#         k_mean, k_min, k_max = evaluate_model(cv,training_features,training_labels)\n",
    "#         # report performance\n",
    "#         print('-> folds=%d, accuracy=%.3f (%.3f,%.3f)' % (k, k_mean, k_min, k_max))\n",
    "    return classifier"
   ]
  },
  {
   "cell_type": "code",
   "execution_count": 5,
   "metadata": {},
   "outputs": [],
   "source": [
    "# #https://towardsdatascience.com/hyperparameter-tuning-the-random-forest-in-python-using-scikit-learn-28d2aa77dd74\n",
    "# def find_best_parameters_random_forest(training_features, training_labels):\n",
    "    \n",
    "#     # Number of trees in random forest\n",
    "#     n_estimators = [int(x) for x in np.linspace(start = 100, stop = 2000, num = 100)]\n",
    "#     # Maximum number of levels in tree\n",
    "#     max_depth = [int(x) for x in np.linspace(10, 110, num = 11)]\n",
    "#     # Method of selecting samples for training each tree\n",
    "#     bootstrap = [True, False]\n",
    "#     # Create the random grid\n",
    "#     random_grid = {'n_estimators': n_estimators,\n",
    "#                    'max_depth': max_depth,\n",
    "#                    'bootstrap': bootstrap}\n",
    "#     #print(random_grid)\n",
    "#     rf = RandomForestClassifier()\n",
    "#     rf_random = RandomizedSearchCV(estimator = rf, param_distributions = random_grid, n_iter = 10, cv = 3, verbose=2, random_state=42, n_jobs = -1)\n",
    "#     # Fit the random search model\n",
    "#     rf_random.fit(training_features, training_labels)\n",
    "#     print('best parameters', rf_random.best_params_)\n",
    "#     return rf_random.best_estimator_\n",
    "    "
   ]
  },
  {
   "cell_type": "code",
   "execution_count": 6,
   "metadata": {},
   "outputs": [],
   "source": [
    "def compute_score_training_set(model, training_features, training_labels, length_test_set, type_splitting):\n",
    "    countEvents = len(training_features)\n",
    "    train_indices = []\n",
    "    test_indices = []\n",
    "    cv = []\n",
    "    number_runs = 50\n",
    "    accuracy_list = []\n",
    "    for i in range(number_runs):\n",
    "        #sequential splitting method\n",
    "        if(type_splitting == 0):\n",
    "            start = randint(0, countEvents - number_runs)\n",
    "            x_test = pd.DataFrame(training_features[start:start + length_test_set], columns = training_features.columns)\n",
    "            y_test = pd.DataFrame(training_labels[start:start + length_test_set])\n",
    "\n",
    "            x_train_before = pd.DataFrame(training_features[0:start], columns=training_features.columns)\n",
    "            x_train_after = pd.DataFrame(training_features[start + length_test_set:countEvents], columns = training_features.columns)\n",
    "            x_train = x_train_before.append(x_train_after)\n",
    "\n",
    "            y_train_before = pd.DataFrame(training_labels[0:start])\n",
    "            y_train_after = pd.DataFrame(training_labels[start + length_test_set:countEvents])\n",
    "            y_train = y_train_before.append(y_train_after)\n",
    "        \n",
    "        #time-based splitting\n",
    "        if(type_splitting == 1):\n",
    "            start_testing = randint(int((countEvents - number_runs) * 0.5), int((countEvents - number_runs) * 0.9))\n",
    "            x_test = pd.DataFrame(training_features[start_testing:], columns = training_features.columns)\n",
    "            y_test = pd.DataFrame(training_labels[start_testing:])\n",
    "\n",
    "            x_train = pd.DataFrame(training_features[0:start_testing], columns = training_features.columns)\n",
    "            y_train = pd.DataFrame(training_labels[0:start_testing])\n",
    "\n",
    "        results = model.fit(x_train, y_train)\n",
    "        predicted_labels = model.predict(x_test)\n",
    "\n",
    "        accuracy = accuracy_score(y_test, predicted_labels)\n",
    "        accuracy_list.append(accuracy)\n",
    "\n",
    "    training_mean = np.mean(accuracy_list)\n",
    "    training_std = np.std(accuracy_list)\n",
    "    return [training_mean, training_std]"
   ]
  },
  {
   "cell_type": "code",
   "execution_count": 7,
   "metadata": {},
   "outputs": [],
   "source": [
    "def check_batches(classifier, features, labels, scores_training_set, size_training, size_dataset, size_batch):\n",
    "    detected_batches = []\n",
    "    detected = False\n",
    "    training_mean = scores_training_set[0]\n",
    "    training_std = scores_training_set[1]\n",
    "    batch_scores = []\n",
    "    total_batches = int((size_dataset - size_training) / size_batch)\n",
    "    print('training mean:', training_mean, ', training std:', training_std)\n",
    "    for i in range(size_training, size_dataset, size_batch):\n",
    "        batch = features[i:i + size_batch]\n",
    "        batch_labels = labels[i:i+size_batch]\n",
    "        batch_score = classifier.score(batch, batch_labels)\n",
    "        batch_scores.append(batch_score)\n",
    "        batch_number = int((i - size_training) / size_batch + 1)\n",
    "        if(training_mean - 1.00 * training_std > batch_score):\n",
    "            detected_batches.append(batch_number)\n",
    "    print('detected batches:', detected_batches)\n",
    "    \n",
    "    #draw graph with accuracies of each batch\n",
    "    batch_scores = np.array(batch_scores)\n",
    "    fig, ax = plt.subplots()\n",
    "    indices = np.arange(1, total_batches + 1)\n",
    "    plt.axhline(y = training_mean, label='mean', color='red')\n",
    "    plt.axhline(y = training_mean - 1.00 * training_std, label='mean - 1.00 x stdev', color='grey')\n",
    "#     plt.axhline(y = training_mean - 1.96 * training_std, label='mean - 1.96 x stdev', color='black')\n",
    "    colors = []\n",
    "    for score in batch_scores:\n",
    "        if(score >= training_mean - 1.00 * training_std):\n",
    "            colors.append('green')\n",
    "        else:\n",
    "            colors.append('red')\n",
    "    ax.bar(indices, batch_scores, color = colors)\n",
    "    ax.legend(loc='center left', bbox_to_anchor=(1, 0.5))\n",
    "    plt.show()\n",
    "    print()\n",
    "\n",
    "    return detected_batches"
   ]
  },
  {
   "cell_type": "code",
   "execution_count": 8,
   "metadata": {},
   "outputs": [],
   "source": [
    "def get_concept_drift(path, size_dataset, size_training, size_batch, features_encoder, scaler, type_splitting):\n",
    "    features, labels = get_all_data(path, features_encoder, size_training, scaler)\n",
    "    training_features, training_labels = get_training_data(features, labels, size_training, scaler)\n",
    "    #used,bad: svm.LinearSVC(), LogisticRegression(), PassiveAggressiveClassifier(),  Perceptron(), Lasso(), ElasticNet() SGDClassifier() MultinomialNB(), svm.SVR() ,  BernoulliNB(alpha=.001)\n",
    "    models = [RandomForestClassifier(n_estimators = 1000, max_depth = 40, bootstrap = False)]\n",
    "    for model in models:\n",
    "        print('model:', model.__class__.__name__)\n",
    "        classifier = learn_classifier(training_features, training_labels, model)\n",
    "        scores_training_set = compute_score_training_set(classifier, training_features, training_labels, size_batch, type_splitting)\n",
    "        check_batches(classifier, features, labels, scores_training_set, size_training, size_dataset, size_batch)"
   ]
  },
  {
   "cell_type": "code",
   "execution_count": 9,
   "metadata": {},
   "outputs": [],
   "source": [
    "def run_test(path, size_dataset, size_training, size_batch, features_encoder, scaler, type_splitting):\n",
    "    start = time.time()\n",
    "    #adjust size of dataset so that all batches have equal size\n",
    "    size_dataset = size_training + int((size_dataset - size_training)/ size_batch) * size_batch\n",
    "    print('dataset:', path)\n",
    "    print('size dataset: ' + str(size_dataset) + ', size training: ' + str(size_training) + ', size testing batch: ' + str(size_batch))\n",
    "    if(features_encoder is not None):\n",
    "        print('categorical features encoder', features_encoder.__class__.__name__)\n",
    "    if(scaler is True):\n",
    "        print('features scaled using MinMaxScaler')\n",
    "    else:\n",
    "        print('features are not scaled')\n",
    "    if(type_splitting == 0):\n",
    "        print('sequential splitting method')\n",
    "    else:\n",
    "        print('time-based splitting method')\n",
    "    print()\n",
    "    predicted_batches = []  \n",
    "    number_testing_batches = (size_dataset - size_training) / size_batch\n",
    "    get_concept_drift(path, size_dataset, size_training, size_batch, features_encoder, scaler, type_splitting)\n",
    "    end = time.time()\n",
    "    print(\"duration of test: \" + str(int((end - start) / 60)) + ' minutes')\n",
    "    print()\n",
    "    print()\n",
    "    "
   ]
  },
  {
   "cell_type": "code",
   "execution_count": 10,
   "metadata": {},
   "outputs": [
    {
     "name": "stdout",
     "output_type": "stream",
     "text": [
      "dataset: real-world/spam_dataset.csv\n",
      "size dataset: 4368, size training: 1468, size testing batch: 100\n",
      "features are not scaled\n",
      "sequential splitting method\n",
      "\n",
      "model: RandomForestClassifier\n",
      "training mean: 0.941190804597701 , training std: 0.05645311353923022\n",
      "detected batches: [7, 8, 10, 11, 12, 13, 15, 16, 17, 19, 20, 21, 22, 23, 24, 25, 26, 27, 28, 29]\n"
     ]
    },
    {
     "data": {
      "image/png": "[encoded data removed]",
      "text/plain": [
       "<Figure size 432x288 with 1 Axes>"
      ]
     },
     "metadata": {
      "needs_background": "light"
     },
     "output_type": "display_data"
    },
    {
     "name": "stdout",
     "output_type": "stream",
     "text": [
      "\n",
      "duration of test: 7 minutes\n",
      "\n",
      "\n"
     ]
    }
   ],
   "source": [
    "#size batch is 100, sequential splitting method (last parameter = 0)\n",
    "run_test('real-world/spam_dataset.csv', 4405, 1468, 100, None, False, 0)"
   ]
  },
  {
   "cell_type": "code",
   "execution_count": 11,
   "metadata": {},
   "outputs": [
    {
     "name": "stdout",
     "output_type": "stream",
     "text": [
      "dataset: real-world/spam_dataset.csv\n",
      "size dataset: 4368, size training: 1468, size testing batch: 100\n",
      "features are not scaled\n",
      "time-based splitting method\n",
      "\n",
      "model: RandomForestClassifier\n",
      "training mean: 0.9318308380919963 , training std: 0.018469935568034248\n",
      "detected batches: [3, 5, 6, 7, 8, 9, 10, 11, 12, 13, 14, 15, 16, 17, 18, 19, 20, 21, 22, 23, 24, 25, 26, 27, 28, 29]\n"
     ]
    },
    {
     "data": {
      "image/png": "[encoded data removed]",
      "text/plain": [
       "<Figure size 432x288 with 1 Axes>"
      ]
     },
     "metadata": {
      "needs_background": "light"
     },
     "output_type": "display_data"
    },
    {
     "name": "stdout",
     "output_type": "stream",
     "text": [
      "\n",
      "duration of test: 5 minutes\n",
      "\n",
      "\n"
     ]
    }
   ],
   "source": [
    "#size batch is 100, time-based splitting method (last parameter = 1)\n",
    "run_test('real-world/spam_dataset.csv', 4405, 1468, 100, None, False, 1)"
   ]
  },
  {
   "cell_type": "code",
   "execution_count": 12,
   "metadata": {},
   "outputs": [
    {
     "name": "stdout",
     "output_type": "stream",
     "text": [
      "dataset: real-world/spam_dataset.csv\n",
      "size dataset: 4368, size training: 1468, size testing batch: 50\n",
      "features are not scaled\n",
      "sequential splitting method\n",
      "\n",
      "model: RandomForestClassifier\n",
      "training mean: 0.9596000000000001 , training std: 0.04069201395851526\n",
      "detected batches: [11, 14, 15, 16, 17, 19, 20, 21, 22, 23, 25, 27, 29, 30, 31, 32, 33, 34, 35, 37, 40, 41, 42, 44, 45, 46, 47, 48, 50, 51, 52, 53, 55, 56, 57, 58]\n"
     ]
    },
    {
     "data": {
      "image/png": "[encoded data removed]",
      "text/plain": [
       "<Figure size 432x288 with 1 Axes>"
      ]
     },
     "metadata": {
      "needs_background": "light"
     },
     "output_type": "display_data"
    },
    {
     "name": "stdout",
     "output_type": "stream",
     "text": [
      "\n",
      "duration of test: 6 minutes\n",
      "\n",
      "\n"
     ]
    }
   ],
   "source": [
    "#size batch is 50, sequential splitting method\n",
    "run_test('real-world/spam_dataset.csv', 4405, 1468, 50, None, False, 0)"
   ]
  },
  {
   "cell_type": "code",
   "execution_count": 13,
   "metadata": {},
   "outputs": [
    {
     "name": "stdout",
     "output_type": "stream",
     "text": [
      "dataset: real-world/spam_dataset.csv\n",
      "size dataset: 4368, size training: 1468, size testing batch: 50\n",
      "features are not scaled\n",
      "time-based splitting method\n",
      "\n",
      "model: RandomForestClassifier\n",
      "training mean: 0.9350294657782604 , training std: 0.017823212505983253\n",
      "detected batches: [1, 3, 4, 5, 7, 9, 11, 12, 13, 14, 15, 16, 17, 18, 19, 20, 21, 22, 23, 24, 25, 26, 27, 28, 29, 30, 31, 32, 33, 34, 35, 36, 37, 38, 39, 40, 41, 42, 43, 44, 45, 46, 47, 48, 49, 50, 51, 52, 53, 54, 55, 56, 57, 58]\n"
     ]
    },
    {
     "data": {
      "image/png": "[encoded data removed]",
      "text/plain": [
       "<Figure size 432x288 with 1 Axes>"
      ]
     },
     "metadata": {
      "needs_background": "light"
     },
     "output_type": "display_data"
    },
    {
     "name": "stdout",
     "output_type": "stream",
     "text": [
      "\n",
      "duration of test: 5 minutes\n",
      "\n",
      "\n"
     ]
    }
   ],
   "source": [
    "#size batch is 50, time-based splitting method\n",
    "run_test('real-world/spam_dataset.csv', 4405, 1468, 50, None, False, 1)"
   ]
  },
  {
   "cell_type": "code",
   "execution_count": 14,
   "metadata": {},
   "outputs": [
    {
     "name": "stdout",
     "output_type": "stream",
     "text": [
      "dataset: real-world/spam_dataset.csv\n",
      "size dataset: 4388, size training: 1468, size testing batch: 20\n",
      "features are not scaled\n",
      "sequential splitting method\n",
      "\n",
      "model: RandomForestClassifier\n",
      "training mean: 0.965 , training std: 0.051234753829797995\n",
      "detected batches: [10, 14, 21, 26, 32, 33, 35, 36, 37, 39, 40, 41, 42, 47, 49, 50, 51, 52, 53, 54, 56, 57, 58, 60, 61, 62, 63, 67, 68, 72, 73, 76, 78, 80, 81, 82, 83, 85, 86, 87, 88, 91, 92, 93, 95, 97, 98, 99, 102, 103, 104, 105, 107, 108, 109, 110, 111, 112, 114, 115, 116, 117, 118, 119, 120, 123, 124, 125, 126, 127, 128, 130, 131, 132, 135, 136, 137, 138, 139, 141, 142, 143, 145]\n"
     ]
    },
    {
     "data": {
      "image/png": "[encoded data removed]",
      "text/plain": [
       "<Figure size 432x288 with 1 Axes>"
      ]
     },
     "metadata": {
      "needs_background": "light"
     },
     "output_type": "display_data"
    },
    {
     "name": "stdout",
     "output_type": "stream",
     "text": [
      "\n",
      "duration of test: 7 minutes\n",
      "\n",
      "\n"
     ]
    }
   ],
   "source": [
    "#size batch is 20, sequential splitting method\n",
    "run_test('real-world/spam_dataset.csv', 4405, 1468, 20, None, False, 0)"
   ]
  },
  {
   "cell_type": "code",
   "execution_count": 15,
   "metadata": {},
   "outputs": [
    {
     "name": "stdout",
     "output_type": "stream",
     "text": [
      "dataset: real-world/spam_dataset.csv\n",
      "size dataset: 4388, size training: 1468, size testing batch: 20\n",
      "features are not scaled\n",
      "time-based splitting method\n",
      "\n",
      "model: RandomForestClassifier\n",
      "training mean: 0.9349459298736769 , training std: 0.013474694244593181\n",
      "detected batches: [2, 10, 11, 14, 17, 21, 22, 26, 27, 28, 29, 30, 31, 32, 33, 34, 35, 36, 37, 39, 41, 42, 46, 47, 48, 49, 50, 51, 52, 53, 54, 56, 57, 58, 59, 60, 61, 62, 63, 64, 65, 67, 68, 70, 72, 73, 74, 76, 77, 78, 79, 80, 82, 83, 85, 86, 87, 88, 90, 92, 93, 95, 97, 98, 99, 102, 103, 104, 105, 107, 108, 109, 110, 111, 112, 113, 114, 115, 116, 117, 118, 119, 120, 122, 123, 124, 125, 126, 127, 128, 129, 130, 131, 132, 134, 135, 136, 137, 138, 139, 140, 141, 142, 143, 144, 145]\n"
     ]
    },
    {
     "data": {
      "image/png": "[encoded data removed]",
      "text/plain": [
       "<Figure size 432x288 with 1 Axes>"
      ]
     },
     "metadata": {
      "needs_background": "light"
     },
     "output_type": "display_data"
    },
    {
     "name": "stdout",
     "output_type": "stream",
     "text": [
      "\n",
      "duration of test: 5 minutes\n",
      "\n",
      "\n"
     ]
    }
   ],
   "source": [
    "#size batch is 20, time-based splitting method\n",
    "run_test('real-world/spam_dataset.csv', 4405, 1468, 20, None, False, 1)"
   ]
  }
 ],
 "metadata": {
  "kernelspec": {
   "display_name": "Python 3",
   "language": "python",
   "name": "python3"
  },
  "language_info": {
   "codemirror_mode": {
    "name": "ipython",
    "version": 3
   },
   "file_extension": ".py",
   "mimetype": "text/x-python",
   "name": "python",
   "nbconvert_exporter": "python",
   "pygments_lexer": "ipython3",
   "version": "3.7.6"
  }
 },
 "nbformat": 4,
 "nbformat_minor": 4
}
